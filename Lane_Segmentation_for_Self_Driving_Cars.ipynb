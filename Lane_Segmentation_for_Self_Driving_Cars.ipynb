{
  "nbformat": 4,
  "nbformat_minor": 0,
  "metadata": {
    "colab": {
      "name": "Lane_Segmentation_for_Self_Driving_Cars.ipynb",
      "provenance": [],
      "collapsed_sections": []
    },
    "kernelspec": {
      "name": "python3",
      "display_name": "Python 3"
    },
    "language_info": {
      "name": "python"
    },
    "accelerator": "GPU",
    "gpuClass": "standard"
  },
  "cells": [
    {
      "cell_type": "code",
      "execution_count": null,
      "metadata": {
        "colab": {
          "base_uri": "https://localhost:8080/"
        },
        "id": "KzaC3gmY7Ywk",
        "outputId": "9002d153-b115-4510-bae9-086f0550f6bc"
      },
      "outputs": [
        {
          "output_type": "stream",
          "name": "stdout",
          "text": [
            "Drive already mounted at /content/drive; to attempt to forcibly remount, call drive.mount(\"/content/drive\", force_remount=True).\n",
            "Archive:  drive/My Drive/CamVid.zip\n",
            "replace CamVid/test/0001TP_008550.png? [y]es, [n]o, [A]ll, [N]one, [r]ename: A\n",
            "  inflating: CamVid/test/0001TP_008550.png  \n",
            "  inflating: CamVid/test/0001TP_008580.png  \n",
            "  inflating: CamVid/test/0001TP_008610.png  \n",
            "  inflating: CamVid/test/0001TP_008640.png  \n",
            "  inflating: CamVid/test/0001TP_008670.png  \n",
            "  inflating: CamVid/test/0001TP_008700.png  \n",
            "  inflating: CamVid/test/0001TP_008730.png  \n",
            "  inflating: CamVid/test/0001TP_008760.png  \n",
            "  inflating: CamVid/test/0001TP_008790.png  \n",
            "  inflating: CamVid/test/0001TP_008820.png  \n",
            "  inflating: CamVid/test/0001TP_008850.png  \n",
            "  inflating: CamVid/test/0001TP_008880.png  \n",
            "  inflating: CamVid/test/0001TP_008910.png  \n",
            "  inflating: CamVid/test/0001TP_008940.png  \n",
            "  inflating: CamVid/test/0001TP_008970.png  \n",
            "  inflating: CamVid/test/0001TP_009000.png  \n",
            "  inflating: CamVid/test/0001TP_009030.png  \n",
            "  inflating: CamVid/test/0001TP_009060.png  \n",
            "  inflating: CamVid/test/0001TP_009090.png  \n",
            "  inflating: CamVid/test/0001TP_009120.png  \n",
            "  inflating: CamVid/test/0001TP_009150.png  \n",
            "  inflating: CamVid/test/0001TP_009180.png  \n",
            "  inflating: CamVid/test/0001TP_009210.png  \n",
            "  inflating: CamVid/test/0001TP_009240.png  \n",
            "  inflating: CamVid/test/0001TP_009270.png  \n",
            "  inflating: CamVid/test/0001TP_009300.png  \n",
            "  inflating: CamVid/test/0001TP_009330.png  \n",
            "  inflating: CamVid/test/0001TP_009360.png  \n",
            "  inflating: CamVid/test/0001TP_009390.png  \n",
            "  inflating: CamVid/test/0001TP_009420.png  \n",
            "  inflating: CamVid/test/0001TP_009450.png  \n",
            "  inflating: CamVid/test/0001TP_009480.png  \n",
            "  inflating: CamVid/test/0001TP_009510.png  \n",
            "  inflating: CamVid/test/0001TP_009540.png  \n",
            "  inflating: CamVid/test/0001TP_009570.png  \n",
            "  inflating: CamVid/test/0001TP_009600.png  \n",
            "  inflating: CamVid/test/0001TP_009630.png  \n",
            "  inflating: CamVid/test/0001TP_009660.png  \n",
            "  inflating: CamVid/test/0001TP_009690.png  \n",
            "  inflating: CamVid/test/0001TP_009720.png  \n",
            "  inflating: CamVid/test/0001TP_009750.png  \n",
            "  inflating: CamVid/test/0001TP_009780.png  \n",
            "  inflating: CamVid/test/0001TP_009810.png  \n",
            "  inflating: CamVid/test/0001TP_009840.png  \n",
            "  inflating: CamVid/test/0001TP_009870.png  \n",
            "  inflating: CamVid/test/0001TP_009900.png  \n",
            "  inflating: CamVid/test/0001TP_009930.png  \n",
            "  inflating: CamVid/test/0001TP_009960.png  \n",
            "  inflating: CamVid/test/0001TP_009990.png  \n",
            "  inflating: CamVid/test/0001TP_010020.png  \n",
            "  inflating: CamVid/test/0001TP_010050.png  \n",
            "  inflating: CamVid/test/0001TP_010080.png  \n",
            "  inflating: CamVid/test/0001TP_010110.png  \n",
            "  inflating: CamVid/test/0001TP_010140.png  \n",
            "  inflating: CamVid/test/0001TP_010170.png  \n",
            "  inflating: CamVid/test/0001TP_010200.png  \n",
            "  inflating: CamVid/test/0001TP_010230.png  \n",
            "  inflating: CamVid/test/0001TP_010260.png  \n",
            "  inflating: CamVid/test/0001TP_010290.png  \n",
            "  inflating: CamVid/test/0001TP_010320.png  \n",
            "  inflating: CamVid/test/0001TP_010350.png  \n",
            "  inflating: CamVid/test/0001TP_010380.png  \n",
            "  inflating: CamVid/test/Seq05VD_f00000.png  \n",
            "  inflating: CamVid/test/Seq05VD_f00030.png  \n",
            "  inflating: CamVid/test/Seq05VD_f00060.png  \n",
            "  inflating: CamVid/test/Seq05VD_f00090.png  \n",
            "  inflating: CamVid/test/Seq05VD_f00120.png  \n",
            "  inflating: CamVid/test/Seq05VD_f00150.png  \n",
            "  inflating: CamVid/test/Seq05VD_f00180.png  \n",
            "  inflating: CamVid/test/Seq05VD_f00210.png  \n",
            "  inflating: CamVid/test/Seq05VD_f00240.png  \n",
            "  inflating: CamVid/test/Seq05VD_f00270.png  \n",
            "  inflating: CamVid/test/Seq05VD_f00300.png  \n",
            "  inflating: CamVid/test/Seq05VD_f00330.png  \n",
            "  inflating: CamVid/test/Seq05VD_f00360.png  \n",
            "  inflating: CamVid/test/Seq05VD_f00390.png  \n",
            "  inflating: CamVid/test/Seq05VD_f00420.png  \n",
            "  inflating: CamVid/test/Seq05VD_f00450.png  \n",
            "  inflating: CamVid/test/Seq05VD_f00480.png  \n",
            "  inflating: CamVid/test/Seq05VD_f00510.png  \n",
            "  inflating: CamVid/test/Seq05VD_f00540.png  \n",
            "  inflating: CamVid/test/Seq05VD_f00570.png  \n",
            "  inflating: CamVid/test/Seq05VD_f00600.png  \n",
            "  inflating: CamVid/test/Seq05VD_f00630.png  \n",
            "  inflating: CamVid/test/Seq05VD_f00660.png  \n",
            "  inflating: CamVid/test/Seq05VD_f00690.png  \n",
            "  inflating: CamVid/test/Seq05VD_f00720.png  \n",
            "  inflating: CamVid/test/Seq05VD_f00750.png  \n",
            "  inflating: CamVid/test/Seq05VD_f00780.png  \n",
            "  inflating: CamVid/test/Seq05VD_f00810.png  \n",
            "  inflating: CamVid/test/Seq05VD_f00840.png  \n",
            "  inflating: CamVid/test/Seq05VD_f00870.png  \n",
            "  inflating: CamVid/test/Seq05VD_f00900.png  \n",
            "  inflating: CamVid/test/Seq05VD_f00930.png  \n",
            "  inflating: CamVid/test/Seq05VD_f00960.png  \n",
            "  inflating: CamVid/test/Seq05VD_f00990.png  \n",
            "  inflating: CamVid/test/Seq05VD_f01020.png  \n",
            "  inflating: CamVid/test/Seq05VD_f01050.png  \n",
            "  inflating: CamVid/test/Seq05VD_f01080.png  \n",
            "  inflating: CamVid/test/Seq05VD_f01110.png  \n",
            "  inflating: CamVid/test/Seq05VD_f01140.png  \n",
            "  inflating: CamVid/test/Seq05VD_f01170.png  \n",
            "  inflating: CamVid/test/Seq05VD_f01200.png  \n",
            "  inflating: CamVid/test/Seq05VD_f01230.png  \n",
            "  inflating: CamVid/test/Seq05VD_f01260.png  \n",
            "  inflating: CamVid/test/Seq05VD_f01290.png  \n",
            "  inflating: CamVid/test/Seq05VD_f01320.png  \n",
            "  inflating: CamVid/test/Seq05VD_f01350.png  \n",
            "  inflating: CamVid/test/Seq05VD_f01380.png  \n",
            "  inflating: CamVid/test/Seq05VD_f01410.png  \n",
            "  inflating: CamVid/test/Seq05VD_f01440.png  \n",
            "  inflating: CamVid/test/Seq05VD_f01470.png  \n",
            "  inflating: CamVid/test/Seq05VD_f01500.png  \n",
            "  inflating: CamVid/test/Seq05VD_f01530.png  \n",
            "  inflating: CamVid/test/Seq05VD_f01560.png  \n",
            "  inflating: CamVid/test/Seq05VD_f01590.png  \n",
            "  inflating: CamVid/test/Seq05VD_f01620.png  \n",
            "  inflating: CamVid/test/Seq05VD_f01650.png  \n",
            "  inflating: CamVid/test/Seq05VD_f01680.png  \n",
            "  inflating: CamVid/test/Seq05VD_f01710.png  \n",
            "  inflating: CamVid/test/Seq05VD_f01740.png  \n",
            "  inflating: CamVid/test/Seq05VD_f01770.png  \n",
            "  inflating: CamVid/test/Seq05VD_f01800.png  \n",
            "  inflating: CamVid/test/Seq05VD_f01830.png  \n",
            "  inflating: CamVid/test/Seq05VD_f01860.png  \n",
            "  inflating: CamVid/test/Seq05VD_f01890.png  \n",
            "  inflating: CamVid/test/Seq05VD_f01920.png  \n",
            "  inflating: CamVid/test/Seq05VD_f01950.png  \n",
            "  inflating: CamVid/test/Seq05VD_f01980.png  \n",
            "  inflating: CamVid/test/Seq05VD_f02010.png  \n",
            "  inflating: CamVid/test/Seq05VD_f02040.png  \n",
            "  inflating: CamVid/test/Seq05VD_f02070.png  \n",
            "  inflating: CamVid/test/Seq05VD_f02100.png  \n",
            "  inflating: CamVid/test/Seq05VD_f02130.png  \n",
            "  inflating: CamVid/test/Seq05VD_f02160.png  \n",
            "  inflating: CamVid/test/Seq05VD_f02190.png  \n",
            "  inflating: CamVid/test/Seq05VD_f02220.png  \n",
            "  inflating: CamVid/test/Seq05VD_f02250.png  \n",
            "  inflating: CamVid/test/Seq05VD_f02280.png  \n",
            "  inflating: CamVid/test/Seq05VD_f02310.png  \n",
            "  inflating: CamVid/test/Seq05VD_f02340.png  \n",
            "  inflating: CamVid/test/Seq05VD_f02370.png  \n",
            "  inflating: CamVid/test/Seq05VD_f02400.png  \n",
            "  inflating: CamVid/test/Seq05VD_f02430.png  \n",
            "  inflating: CamVid/test/Seq05VD_f02460.png  \n",
            "  inflating: CamVid/test/Seq05VD_f02490.png  \n",
            "  inflating: CamVid/test/Seq05VD_f02520.png  \n",
            "  inflating: CamVid/test/Seq05VD_f02550.png  \n",
            "  inflating: CamVid/test/Seq05VD_f02580.png  \n",
            "  inflating: CamVid/test/Seq05VD_f02610.png  \n",
            "  inflating: CamVid/test/Seq05VD_f02640.png  \n",
            "  inflating: CamVid/test/Seq05VD_f02670.png  \n",
            "  inflating: CamVid/test/Seq05VD_f02700.png  \n",
            "  inflating: CamVid/test/Seq05VD_f02730.png  \n",
            "  inflating: CamVid/test/Seq05VD_f02760.png  \n",
            "  inflating: CamVid/test/Seq05VD_f02790.png  \n",
            "  inflating: CamVid/test/Seq05VD_f02820.png  \n",
            "  inflating: CamVid/test/Seq05VD_f02850.png  \n",
            "  inflating: CamVid/test/Seq05VD_f02880.png  \n",
            "  inflating: CamVid/test/Seq05VD_f02910.png  \n",
            "  inflating: CamVid/test/Seq05VD_f02940.png  \n",
            "  inflating: CamVid/test/Seq05VD_f02970.png  \n",
            "  inflating: CamVid/test/Seq05VD_f03000.png  \n",
            "  inflating: CamVid/test/Seq05VD_f03030.png  \n",
            "  inflating: CamVid/test/Seq05VD_f03060.png  \n",
            "  inflating: CamVid/test/Seq05VD_f03090.png  \n",
            "  inflating: CamVid/test/Seq05VD_f03120.png  \n",
            "  inflating: CamVid/test/Seq05VD_f03150.png  \n",
            "  inflating: CamVid/test/Seq05VD_f03180.png  \n",
            "  inflating: CamVid/test/Seq05VD_f03210.png  \n",
            "  inflating: CamVid/test/Seq05VD_f03240.png  \n",
            "  inflating: CamVid/test/Seq05VD_f03270.png  \n",
            "  inflating: CamVid/test/Seq05VD_f03300.png  \n",
            "  inflating: CamVid/test/Seq05VD_f03330.png  \n",
            "  inflating: CamVid/test/Seq05VD_f03360.png  \n",
            "  inflating: CamVid/test/Seq05VD_f03390.png  \n",
            "  inflating: CamVid/test/Seq05VD_f03420.png  \n",
            "  inflating: CamVid/test/Seq05VD_f03450.png  \n",
            "  inflating: CamVid/test/Seq05VD_f03480.png  \n",
            "  inflating: CamVid/test/Seq05VD_f03510.png  \n",
            "  inflating: CamVid/test/Seq05VD_f03540.png  \n",
            "  inflating: CamVid/test/Seq05VD_f03570.png  \n",
            "  inflating: CamVid/test/Seq05VD_f03600.png  \n",
            "  inflating: CamVid/test/Seq05VD_f03630.png  \n",
            "  inflating: CamVid/test/Seq05VD_f03660.png  \n",
            "  inflating: CamVid/test/Seq05VD_f03690.png  \n",
            "  inflating: CamVid/test/Seq05VD_f03720.png  \n",
            "  inflating: CamVid/test/Seq05VD_f03750.png  \n",
            "  inflating: CamVid/test/Seq05VD_f03780.png  \n",
            "  inflating: CamVid/test/Seq05VD_f03810.png  \n",
            "  inflating: CamVid/test/Seq05VD_f03840.png  \n",
            "  inflating: CamVid/test/Seq05VD_f03870.png  \n",
            "  inflating: CamVid/test/Seq05VD_f03900.png  \n",
            "  inflating: CamVid/test/Seq05VD_f03930.png  \n",
            "  inflating: CamVid/test/Seq05VD_f03960.png  \n",
            "  inflating: CamVid/test/Seq05VD_f03990.png  \n",
            "  inflating: CamVid/test/Seq05VD_f04020.png  \n",
            "  inflating: CamVid/test/Seq05VD_f04050.png  \n",
            "  inflating: CamVid/test/Seq05VD_f04080.png  \n",
            "  inflating: CamVid/test/Seq05VD_f04110.png  \n",
            "  inflating: CamVid/test/Seq05VD_f04140.png  \n",
            "  inflating: CamVid/test/Seq05VD_f04170.png  \n",
            "  inflating: CamVid/test/Seq05VD_f04200.png  \n",
            "  inflating: CamVid/test/Seq05VD_f04230.png  \n",
            "  inflating: CamVid/test/Seq05VD_f04260.png  \n",
            "  inflating: CamVid/test/Seq05VD_f04290.png  \n",
            "  inflating: CamVid/test/Seq05VD_f04320.png  \n",
            "  inflating: CamVid/test/Seq05VD_f04350.png  \n",
            "  inflating: CamVid/test/Seq05VD_f04380.png  \n",
            "  inflating: CamVid/test/Seq05VD_f04410.png  \n",
            "  inflating: CamVid/test/Seq05VD_f04440.png  \n",
            "  inflating: CamVid/test/Seq05VD_f04470.png  \n",
            "  inflating: CamVid/test/Seq05VD_f04500.png  \n",
            "  inflating: CamVid/test/Seq05VD_f04530.png  \n",
            "  inflating: CamVid/test/Seq05VD_f04560.png  \n",
            "  inflating: CamVid/test/Seq05VD_f04590.png  \n",
            "  inflating: CamVid/test/Seq05VD_f04620.png  \n",
            "  inflating: CamVid/test/Seq05VD_f04650.png  \n",
            "  inflating: CamVid/test/Seq05VD_f04680.png  \n",
            "  inflating: CamVid/test/Seq05VD_f04710.png  \n",
            "  inflating: CamVid/test/Seq05VD_f04740.png  \n",
            "  inflating: CamVid/test/Seq05VD_f04770.png  \n",
            "  inflating: CamVid/test/Seq05VD_f04800.png  \n",
            "  inflating: CamVid/test/Seq05VD_f04830.png  \n",
            "  inflating: CamVid/test/Seq05VD_f04860.png  \n",
            "  inflating: CamVid/test/Seq05VD_f04890.png  \n",
            "  inflating: CamVid/test/Seq05VD_f04920.png  \n",
            "  inflating: CamVid/test/Seq05VD_f04950.png  \n",
            "  inflating: CamVid/test/Seq05VD_f04980.png  \n",
            "  inflating: CamVid/test/Seq05VD_f05010.png  \n",
            "  inflating: CamVid/test/Seq05VD_f05040.png  \n",
            "  inflating: CamVid/test/Seq05VD_f05070.png  \n",
            "  inflating: CamVid/test/Seq05VD_f05100.png  \n",
            "  inflating: CamVid/test_labels/0001TP_008550.png  \n",
            "  inflating: CamVid/test_labels/0001TP_008580.png  \n",
            " extracting: CamVid/test_labels/0001TP_008610.png  \n",
            " extracting: CamVid/test_labels/0001TP_008640.png  \n",
            " extracting: CamVid/test_labels/0001TP_008670.png  \n",
            " extracting: CamVid/test_labels/0001TP_008700.png  \n",
            " extracting: CamVid/test_labels/0001TP_008730.png  \n",
            "  inflating: CamVid/test_labels/0001TP_008760.png  \n",
            " extracting: CamVid/test_labels/0001TP_008790.png  \n",
            " extracting: CamVid/test_labels/0001TP_008820.png  \n",
            " extracting: CamVid/test_labels/0001TP_008850.png  \n",
            " extracting: CamVid/test_labels/0001TP_008880.png  \n",
            " extracting: CamVid/test_labels/0001TP_008910.png  \n",
            " extracting: CamVid/test_labels/0001TP_008940.png  \n",
            " extracting: CamVid/test_labels/0001TP_008970.png  \n",
            " extracting: CamVid/test_labels/0001TP_009000.png  \n",
            " extracting: CamVid/test_labels/0001TP_009030.png  \n",
            " extracting: CamVid/test_labels/0001TP_009060.png  \n",
            " extracting: CamVid/test_labels/0001TP_009090.png  \n",
            " extracting: CamVid/test_labels/0001TP_009120.png  \n",
            " extracting: CamVid/test_labels/0001TP_009150.png  \n",
            " extracting: CamVid/test_labels/0001TP_009180.png  \n",
            " extracting: CamVid/test_labels/0001TP_009210.png  \n",
            " extracting: CamVid/test_labels/0001TP_009240.png  \n",
            " extracting: CamVid/test_labels/0001TP_009270.png  \n",
            " extracting: CamVid/test_labels/0001TP_009300.png  \n",
            " extracting: CamVid/test_labels/0001TP_009330.png  \n",
            " extracting: CamVid/test_labels/0001TP_009360.png  \n",
            " extracting: CamVid/test_labels/0001TP_009390.png  \n",
            " extracting: CamVid/test_labels/0001TP_009420.png  \n",
            " extracting: CamVid/test_labels/0001TP_009450.png  \n",
            " extracting: CamVid/test_labels/0001TP_009480.png  \n",
            " extracting: CamVid/test_labels/0001TP_009510.png  \n",
            " extracting: CamVid/test_labels/0001TP_009540.png  \n",
            " extracting: CamVid/test_labels/0001TP_009570.png  \n",
            " extracting: CamVid/test_labels/0001TP_009600.png  \n",
            " extracting: CamVid/test_labels/0001TP_009630.png  \n",
            " extracting: CamVid/test_labels/0001TP_009660.png  \n",
            " extracting: CamVid/test_labels/0001TP_009690.png  \n",
            " extracting: CamVid/test_labels/0001TP_009720.png  \n",
            " extracting: CamVid/test_labels/0001TP_009750.png  \n",
            " extracting: CamVid/test_labels/0001TP_009780.png  \n",
            " extracting: CamVid/test_labels/0001TP_009810.png  \n",
            " extracting: CamVid/test_labels/0001TP_009840.png  \n",
            " extracting: CamVid/test_labels/0001TP_009870.png  \n",
            " extracting: CamVid/test_labels/0001TP_009900.png  \n",
            " extracting: CamVid/test_labels/0001TP_009930.png  \n",
            " extracting: CamVid/test_labels/0001TP_009960.png  \n",
            "  inflating: CamVid/test_labels/0001TP_009990.png  \n",
            " extracting: CamVid/test_labels/0001TP_010020.png  \n",
            " extracting: CamVid/test_labels/0001TP_010050.png  \n",
            " extracting: CamVid/test_labels/0001TP_010080.png  \n",
            " extracting: CamVid/test_labels/0001TP_010110.png  \n",
            " extracting: CamVid/test_labels/0001TP_010140.png  \n",
            " extracting: CamVid/test_labels/0001TP_010170.png  \n",
            " extracting: CamVid/test_labels/0001TP_010200.png  \n",
            " extracting: CamVid/test_labels/0001TP_010230.png  \n",
            " extracting: CamVid/test_labels/0001TP_010260.png  \n",
            " extracting: CamVid/test_labels/0001TP_010290.png  \n",
            " extracting: CamVid/test_labels/0001TP_010320.png  \n",
            " extracting: CamVid/test_labels/0001TP_010350.png  \n",
            " extracting: CamVid/test_labels/0001TP_010380.png  \n",
            " extracting: CamVid/test_labels/Seq05VD_f00000.png  \n",
            " extracting: CamVid/test_labels/Seq05VD_f00030.png  \n",
            " extracting: CamVid/test_labels/Seq05VD_f00060.png  \n",
            "  inflating: CamVid/test_labels/Seq05VD_f00090.png  \n",
            " extracting: CamVid/test_labels/Seq05VD_f00120.png  \n",
            "  inflating: CamVid/test_labels/Seq05VD_f00150.png  \n",
            "  inflating: CamVid/test_labels/Seq05VD_f00180.png  \n",
            "  inflating: CamVid/test_labels/Seq05VD_f00210.png  \n",
            " extracting: CamVid/test_labels/Seq05VD_f00240.png  \n",
            " extracting: CamVid/test_labels/Seq05VD_f00270.png  \n",
            " extracting: CamVid/test_labels/Seq05VD_f00300.png  \n",
            " extracting: CamVid/test_labels/Seq05VD_f00330.png  \n",
            " extracting: CamVid/test_labels/Seq05VD_f00360.png  \n",
            " extracting: CamVid/test_labels/Seq05VD_f00390.png  \n",
            "  inflating: CamVid/test_labels/Seq05VD_f00420.png  \n",
            " extracting: CamVid/test_labels/Seq05VD_f00450.png  \n",
            " extracting: CamVid/test_labels/Seq05VD_f00480.png  \n",
            " extracting: CamVid/test_labels/Seq05VD_f00510.png  \n",
            " extracting: CamVid/test_labels/Seq05VD_f00540.png  \n",
            " extracting: CamVid/test_labels/Seq05VD_f00570.png  \n",
            " extracting: CamVid/test_labels/Seq05VD_f00600.png  \n",
            " extracting: CamVid/test_labels/Seq05VD_f00630.png  \n",
            " extracting: CamVid/test_labels/Seq05VD_f00660.png  \n",
            " extracting: CamVid/test_labels/Seq05VD_f00690.png  \n",
            " extracting: CamVid/test_labels/Seq05VD_f00720.png  \n",
            " extracting: CamVid/test_labels/Seq05VD_f00750.png  \n",
            "  inflating: CamVid/test_labels/Seq05VD_f00780.png  \n",
            " extracting: CamVid/test_labels/Seq05VD_f00810.png  \n",
            " extracting: CamVid/test_labels/Seq05VD_f00840.png  \n",
            " extracting: CamVid/test_labels/Seq05VD_f00870.png  \n",
            " extracting: CamVid/test_labels/Seq05VD_f00900.png  \n",
            " extracting: CamVid/test_labels/Seq05VD_f00930.png  \n",
            "  inflating: CamVid/test_labels/Seq05VD_f00960.png  \n",
            "  inflating: CamVid/test_labels/Seq05VD_f00990.png  \n",
            " extracting: CamVid/test_labels/Seq05VD_f01020.png  \n",
            " extracting: CamVid/test_labels/Seq05VD_f01050.png  \n",
            " extracting: CamVid/test_labels/Seq05VD_f01080.png  \n",
            "  inflating: CamVid/test_labels/Seq05VD_f01110.png  \n",
            " extracting: CamVid/test_labels/Seq05VD_f01140.png  \n",
            " extracting: CamVid/test_labels/Seq05VD_f01170.png  \n",
            " extracting: CamVid/test_labels/Seq05VD_f01200.png  \n",
            " extracting: CamVid/test_labels/Seq05VD_f01230.png  \n",
            " extracting: CamVid/test_labels/Seq05VD_f01260.png  \n",
            " extracting: CamVid/test_labels/Seq05VD_f01290.png  \n",
            " extracting: CamVid/test_labels/Seq05VD_f01320.png  \n",
            " extracting: CamVid/test_labels/Seq05VD_f01350.png  \n",
            " extracting: CamVid/test_labels/Seq05VD_f01380.png  \n",
            " extracting: CamVid/test_labels/Seq05VD_f01410.png  \n",
            "  inflating: CamVid/test_labels/Seq05VD_f01440.png  \n",
            " extracting: CamVid/test_labels/Seq05VD_f01470.png  \n",
            " extracting: CamVid/test_labels/Seq05VD_f01500.png  \n",
            " extracting: CamVid/test_labels/Seq05VD_f01530.png  \n",
            " extracting: CamVid/test_labels/Seq05VD_f01560.png  \n",
            " extracting: CamVid/test_labels/Seq05VD_f01590.png  \n",
            " extracting: CamVid/test_labels/Seq05VD_f01620.png  \n",
            " extracting: CamVid/test_labels/Seq05VD_f01650.png  \n",
            " extracting: CamVid/test_labels/Seq05VD_f01680.png  \n",
            " extracting: CamVid/test_labels/Seq05VD_f01710.png  \n",
            " extracting: CamVid/test_labels/Seq05VD_f01740.png  \n",
            "  inflating: CamVid/test_labels/Seq05VD_f01770.png  \n",
            " extracting: CamVid/test_labels/Seq05VD_f01800.png  \n",
            " extracting: CamVid/test_labels/Seq05VD_f01830.png  \n",
            " extracting: CamVid/test_labels/Seq05VD_f01860.png  \n",
            " extracting: CamVid/test_labels/Seq05VD_f01890.png  \n",
            "  inflating: CamVid/test_labels/Seq05VD_f01920.png  \n",
            " extracting: CamVid/test_labels/Seq05VD_f01950.png  \n",
            " extracting: CamVid/test_labels/Seq05VD_f01980.png  \n",
            " extracting: CamVid/test_labels/Seq05VD_f02010.png  \n",
            "  inflating: CamVid/test_labels/Seq05VD_f02040.png  \n",
            " extracting: CamVid/test_labels/Seq05VD_f02070.png  \n",
            " extracting: CamVid/test_labels/Seq05VD_f02100.png  \n",
            " extracting: CamVid/test_labels/Seq05VD_f02130.png  \n",
            " extracting: CamVid/test_labels/Seq05VD_f02160.png  \n",
            " extracting: CamVid/test_labels/Seq05VD_f02190.png  \n",
            " extracting: CamVid/test_labels/Seq05VD_f02220.png  \n",
            " extracting: CamVid/test_labels/Seq05VD_f02250.png  \n",
            " extracting: CamVid/test_labels/Seq05VD_f02280.png  \n",
            " extracting: CamVid/test_labels/Seq05VD_f02310.png  \n",
            " extracting: CamVid/test_labels/Seq05VD_f02340.png  \n",
            " extracting: CamVid/test_labels/Seq05VD_f02370.png  \n",
            " extracting: CamVid/test_labels/Seq05VD_f02400.png  \n",
            " extracting: CamVid/test_labels/Seq05VD_f02430.png  \n",
            " extracting: CamVid/test_labels/Seq05VD_f02460.png  \n",
            " extracting: CamVid/test_labels/Seq05VD_f02490.png  \n",
            " extracting: CamVid/test_labels/Seq05VD_f02520.png  \n",
            " extracting: CamVid/test_labels/Seq05VD_f02550.png  \n",
            " extracting: CamVid/test_labels/Seq05VD_f02580.png  \n",
            " extracting: CamVid/test_labels/Seq05VD_f02610.png  \n",
            " extracting: CamVid/test_labels/Seq05VD_f02640.png  \n",
            " extracting: CamVid/test_labels/Seq05VD_f02670.png  \n",
            " extracting: CamVid/test_labels/Seq05VD_f02700.png  \n",
            " extracting: CamVid/test_labels/Seq05VD_f02730.png  \n",
            " extracting: CamVid/test_labels/Seq05VD_f02760.png  \n",
            " extracting: CamVid/test_labels/Seq05VD_f02790.png  \n",
            " extracting: CamVid/test_labels/Seq05VD_f02820.png  \n",
            " extracting: CamVid/test_labels/Seq05VD_f02850.png  \n",
            " extracting: CamVid/test_labels/Seq05VD_f02880.png  \n",
            " extracting: CamVid/test_labels/Seq05VD_f02910.png  \n",
            "  inflating: CamVid/test_labels/Seq05VD_f02940.png  \n",
            "  inflating: CamVid/test_labels/Seq05VD_f02970.png  \n",
            "  inflating: CamVid/test_labels/Seq05VD_f03000.png  \n",
            " extracting: CamVid/test_labels/Seq05VD_f03030.png  \n",
            " extracting: CamVid/test_labels/Seq05VD_f03060.png  \n",
            " extracting: CamVid/test_labels/Seq05VD_f03090.png  \n",
            " extracting: CamVid/test_labels/Seq05VD_f03120.png  \n",
            " extracting: CamVid/test_labels/Seq05VD_f03150.png  \n",
            "  inflating: CamVid/test_labels/Seq05VD_f03180.png  \n",
            " extracting: CamVid/test_labels/Seq05VD_f03210.png  \n",
            " extracting: CamVid/test_labels/Seq05VD_f03240.png  \n",
            " extracting: CamVid/test_labels/Seq05VD_f03270.png  \n",
            "  inflating: CamVid/test_labels/Seq05VD_f03300.png  \n",
            "  inflating: CamVid/test_labels/Seq05VD_f03330.png  \n",
            " extracting: CamVid/test_labels/Seq05VD_f03360.png  \n",
            " extracting: CamVid/test_labels/Seq05VD_f03390.png  \n",
            " extracting: CamVid/test_labels/Seq05VD_f03420.png  \n",
            " extracting: CamVid/test_labels/Seq05VD_f03450.png  \n",
            " extracting: CamVid/test_labels/Seq05VD_f03480.png  \n",
            "  inflating: CamVid/test_labels/Seq05VD_f03510.png  \n",
            "  inflating: CamVid/test_labels/Seq05VD_f03540.png  \n",
            "  inflating: CamVid/test_labels/Seq05VD_f03570.png  \n",
            " extracting: CamVid/test_labels/Seq05VD_f03600.png  \n",
            " extracting: CamVid/test_labels/Seq05VD_f03630.png  \n",
            " extracting: CamVid/test_labels/Seq05VD_f03660.png  \n",
            " extracting: CamVid/test_labels/Seq05VD_f03690.png  \n",
            " extracting: CamVid/test_labels/Seq05VD_f03720.png  \n",
            " extracting: CamVid/test_labels/Seq05VD_f03750.png  \n",
            " extracting: CamVid/test_labels/Seq05VD_f03780.png  \n",
            " extracting: CamVid/test_labels/Seq05VD_f03810.png  \n",
            " extracting: CamVid/test_labels/Seq05VD_f03840.png  \n",
            " extracting: CamVid/test_labels/Seq05VD_f03870.png  \n",
            " extracting: CamVid/test_labels/Seq05VD_f03900.png  \n",
            " extracting: CamVid/test_labels/Seq05VD_f03930.png  \n",
            "  inflating: CamVid/test_labels/Seq05VD_f03960.png  \n",
            "  inflating: CamVid/test_labels/Seq05VD_f03990.png  \n",
            " extracting: CamVid/test_labels/Seq05VD_f04020.png  \n",
            " extracting: CamVid/test_labels/Seq05VD_f04050.png  \n",
            "  inflating: CamVid/test_labels/Seq05VD_f04080.png  \n",
            "  inflating: CamVid/test_labels/Seq05VD_f04110.png  \n",
            "  inflating: CamVid/test_labels/Seq05VD_f04140.png  \n",
            "  inflating: CamVid/test_labels/Seq05VD_f04170.png  \n",
            " extracting: CamVid/test_labels/Seq05VD_f04200.png  \n",
            " extracting: CamVid/test_labels/Seq05VD_f04230.png  \n",
            "  inflating: CamVid/test_labels/Seq05VD_f04260.png  \n",
            " extracting: CamVid/test_labels/Seq05VD_f04290.png  \n",
            " extracting: CamVid/test_labels/Seq05VD_f04320.png  \n",
            " extracting: CamVid/test_labels/Seq05VD_f04350.png  \n",
            " extracting: CamVid/test_labels/Seq05VD_f04380.png  \n",
            " extracting: CamVid/test_labels/Seq05VD_f04410.png  \n",
            " extracting: CamVid/test_labels/Seq05VD_f04440.png  \n",
            " extracting: CamVid/test_labels/Seq05VD_f04470.png  \n",
            " extracting: CamVid/test_labels/Seq05VD_f04500.png  \n",
            " extracting: CamVid/test_labels/Seq05VD_f04530.png  \n",
            " extracting: CamVid/test_labels/Seq05VD_f04560.png  \n",
            " extracting: CamVid/test_labels/Seq05VD_f04590.png  \n",
            " extracting: CamVid/test_labels/Seq05VD_f04620.png  \n",
            " extracting: CamVid/test_labels/Seq05VD_f04650.png  \n",
            " extracting: CamVid/test_labels/Seq05VD_f04680.png  \n",
            " extracting: CamVid/test_labels/Seq05VD_f04710.png  \n",
            " extracting: CamVid/test_labels/Seq05VD_f04740.png  \n",
            " extracting: CamVid/test_labels/Seq05VD_f04770.png  \n",
            "  inflating: CamVid/test_labels/Seq05VD_f04800.png  \n",
            " extracting: CamVid/test_labels/Seq05VD_f04830.png  \n",
            " extracting: CamVid/test_labels/Seq05VD_f04860.png  \n",
            " extracting: CamVid/test_labels/Seq05VD_f04890.png  \n",
            " extracting: CamVid/test_labels/Seq05VD_f04920.png  \n",
            " extracting: CamVid/test_labels/Seq05VD_f04950.png  \n",
            " extracting: CamVid/test_labels/Seq05VD_f04980.png  \n",
            "  inflating: CamVid/test_labels/Seq05VD_f05010.png  \n",
            " extracting: CamVid/test_labels/Seq05VD_f05040.png  \n",
            " extracting: CamVid/test_labels/Seq05VD_f05070.png  \n",
            " extracting: CamVid/test_labels/Seq05VD_f05100.png  \n",
            "  inflating: CamVid/train/0001TP_006690.png  \n",
            "  inflating: CamVid/train/0001TP_006720.png  \n",
            "  inflating: CamVid/train/0001TP_006750.png  \n",
            "  inflating: CamVid/train/0001TP_006780.png  \n",
            "  inflating: CamVid/train/0001TP_006810.png  \n",
            "  inflating: CamVid/train/0001TP_006840.png  \n",
            "  inflating: CamVid/train/0001TP_006870.png  \n",
            "  inflating: CamVid/train/0001TP_006900.png  \n",
            "  inflating: CamVid/train/0001TP_006930.png  \n",
            "  inflating: CamVid/train/0001TP_006960.png  \n",
            "  inflating: CamVid/train/0001TP_006990.png  \n",
            "  inflating: CamVid/train/0001TP_007020.png  \n",
            "  inflating: CamVid/train/0001TP_007050.png  \n",
            "  inflating: CamVid/train/0001TP_007080.png  \n",
            "  inflating: CamVid/train/0001TP_007110.png  \n",
            "  inflating: CamVid/train/0001TP_007140.png  \n",
            "  inflating: CamVid/train/0001TP_007170.png  \n",
            "  inflating: CamVid/train/0001TP_007200.png  \n",
            "  inflating: CamVid/train/0001TP_007230.png  \n",
            "  inflating: CamVid/train/0001TP_007260.png  \n",
            "  inflating: CamVid/train/0001TP_007290.png  \n",
            "  inflating: CamVid/train/0001TP_007320.png  \n",
            "  inflating: CamVid/train/0001TP_007350.png  \n",
            "  inflating: CamVid/train/0001TP_007380.png  \n",
            "  inflating: CamVid/train/0001TP_007410.png  \n",
            "  inflating: CamVid/train/0001TP_007440.png  \n",
            "  inflating: CamVid/train/0001TP_007470.png  \n",
            "  inflating: CamVid/train/0001TP_007500.png  \n",
            "  inflating: CamVid/train/0001TP_007530.png  \n",
            "  inflating: CamVid/train/0001TP_007560.png  \n",
            "  inflating: CamVid/train/0001TP_007590.png  \n",
            "  inflating: CamVid/train/0001TP_007620.png  \n",
            "  inflating: CamVid/train/0001TP_007650.png  \n",
            "  inflating: CamVid/train/0001TP_007680.png  \n",
            "  inflating: CamVid/train/0001TP_007710.png  \n",
            "  inflating: CamVid/train/0001TP_007740.png  \n",
            "  inflating: CamVid/train/0001TP_007770.png  \n",
            "  inflating: CamVid/train/0001TP_007800.png  \n",
            "  inflating: CamVid/train/0001TP_007830.png  \n",
            "  inflating: CamVid/train/0001TP_007860.png  \n",
            "  inflating: CamVid/train/0001TP_007890.png  \n",
            "  inflating: CamVid/train/0001TP_007920.png  \n",
            "  inflating: CamVid/train/0001TP_007950.png  \n",
            "  inflating: CamVid/train/0001TP_007980.png  \n",
            "  inflating: CamVid/train/0001TP_008010.png  \n",
            "  inflating: CamVid/train/0001TP_008040.png  \n",
            "  inflating: CamVid/train/0001TP_008070.png  \n",
            "  inflating: CamVid/train/0001TP_008100.png  \n",
            "  inflating: CamVid/train/0001TP_008130.png  \n",
            "  inflating: CamVid/train/0001TP_008160.png  \n",
            "  inflating: CamVid/train/0001TP_008190.png  \n",
            "  inflating: CamVid/train/0001TP_008220.png  \n",
            "  inflating: CamVid/train/0001TP_008250.png  \n",
            "  inflating: CamVid/train/0001TP_008280.png  \n",
            "  inflating: CamVid/train/0001TP_008310.png  \n",
            "  inflating: CamVid/train/0001TP_008340.png  \n",
            "  inflating: CamVid/train/0001TP_008370.png  \n",
            "  inflating: CamVid/train/0001TP_008400.png  \n",
            "  inflating: CamVid/train/0001TP_008430.png  \n",
            "  inflating: CamVid/train/0001TP_008460.png  \n",
            "  inflating: CamVid/train/0001TP_008490.png  \n",
            "  inflating: CamVid/train/0001TP_008520.png  \n",
            "  inflating: CamVid/train/0006R0_f00930.png  \n",
            "  inflating: CamVid/train/0006R0_f00960.png  \n",
            "  inflating: CamVid/train/0006R0_f00990.png  \n",
            "  inflating: CamVid/train/0006R0_f01020.png  \n",
            "  inflating: CamVid/train/0006R0_f01050.png  \n",
            "  inflating: CamVid/train/0006R0_f01080.png  \n",
            "  inflating: CamVid/train/0006R0_f01110.png  \n",
            "  inflating: CamVid/train/0006R0_f01140.png  \n",
            "  inflating: CamVid/train/0006R0_f01170.png  \n",
            "  inflating: CamVid/train/0006R0_f01200.png  \n",
            "  inflating: CamVid/train/0006R0_f01230.png  \n",
            "  inflating: CamVid/train/0006R0_f01260.png  \n",
            "  inflating: CamVid/train/0006R0_f01290.png  \n",
            "  inflating: CamVid/train/0006R0_f01320.png  \n",
            "  inflating: CamVid/train/0006R0_f01350.png  \n",
            "  inflating: CamVid/train/0006R0_f01380.png  \n",
            "  inflating: CamVid/train/0006R0_f01410.png  \n",
            "  inflating: CamVid/train/0006R0_f01440.png  \n",
            "  inflating: CamVid/train/0006R0_f01470.png  \n",
            "  inflating: CamVid/train/0006R0_f01500.png  \n",
            "  inflating: CamVid/train/0006R0_f01530.png  \n",
            "  inflating: CamVid/train/0006R0_f01560.png  \n",
            "  inflating: CamVid/train/0006R0_f01590.png  \n",
            "  inflating: CamVid/train/0006R0_f01620.png  \n",
            "  inflating: CamVid/train/0006R0_f01650.png  \n",
            "  inflating: CamVid/train/0006R0_f01680.png  \n",
            "  inflating: CamVid/train/0006R0_f01710.png  \n",
            "  inflating: CamVid/train/0006R0_f01740.png  \n",
            "  inflating: CamVid/train/0006R0_f01770.png  \n",
            "  inflating: CamVid/train/0006R0_f01800.png  \n",
            "  inflating: CamVid/train/0006R0_f01830.png  \n",
            "  inflating: CamVid/train/0006R0_f01860.png  \n",
            "  inflating: CamVid/train/0006R0_f01890.png  \n",
            "  inflating: CamVid/train/0006R0_f01920.png  \n",
            "  inflating: CamVid/train/0006R0_f01950.png  \n",
            "  inflating: CamVid/train/0006R0_f01980.png  \n",
            "  inflating: CamVid/train/0006R0_f02010.png  \n",
            "  inflating: CamVid/train/0006R0_f02040.png  \n",
            "  inflating: CamVid/train/0006R0_f02070.png  \n",
            "  inflating: CamVid/train/0006R0_f02100.png  \n",
            "  inflating: CamVid/train/0006R0_f02130.png  \n",
            "  inflating: CamVid/train/0006R0_f02160.png  \n",
            "  inflating: CamVid/train/0006R0_f02190.png  \n",
            "  inflating: CamVid/train/0006R0_f02220.png  \n",
            "  inflating: CamVid/train/0006R0_f02250.png  \n",
            "  inflating: CamVid/train/0006R0_f02280.png  \n",
            "  inflating: CamVid/train/0006R0_f02310.png  \n",
            "  inflating: CamVid/train/0006R0_f02340.png  \n",
            "  inflating: CamVid/train/0006R0_f02370.png  \n",
            "  inflating: CamVid/train/0006R0_f02400.png  \n",
            "  inflating: CamVid/train/0006R0_f02430.png  \n",
            "  inflating: CamVid/train/0006R0_f02460.png  \n",
            "  inflating: CamVid/train/0006R0_f02490.png  \n",
            "  inflating: CamVid/train/0006R0_f02520.png  \n",
            "  inflating: CamVid/train/0006R0_f02550.png  \n",
            "  inflating: CamVid/train/0006R0_f02580.png  \n",
            "  inflating: CamVid/train/0006R0_f02610.png  \n",
            "  inflating: CamVid/train/0006R0_f02640.png  \n",
            "  inflating: CamVid/train/0006R0_f02670.png  \n",
            "  inflating: CamVid/train/0006R0_f02700.png  \n",
            "  inflating: CamVid/train/0006R0_f02730.png  \n",
            "  inflating: CamVid/train/0006R0_f02760.png  \n",
            "  inflating: CamVid/train/0006R0_f02790.png  \n",
            "  inflating: CamVid/train/0006R0_f02820.png  \n",
            "  inflating: CamVid/train/0006R0_f02850.png  \n",
            "  inflating: CamVid/train/0006R0_f02880.png  \n",
            "  inflating: CamVid/train/0006R0_f02910.png  \n",
            "  inflating: CamVid/train/0006R0_f02940.png  \n",
            "  inflating: CamVid/train/0006R0_f02970.png  \n",
            "  inflating: CamVid/train/0006R0_f03000.png  \n",
            "  inflating: CamVid/train/0006R0_f03030.png  \n",
            "  inflating: CamVid/train/0006R0_f03060.png  \n",
            "  inflating: CamVid/train/0006R0_f03090.png  \n",
            "  inflating: CamVid/train/0006R0_f03120.png  \n",
            "  inflating: CamVid/train/0006R0_f03150.png  \n",
            "  inflating: CamVid/train/0006R0_f03180.png  \n",
            "  inflating: CamVid/train/0006R0_f03210.png  \n",
            "  inflating: CamVid/train/0006R0_f03240.png  \n",
            "  inflating: CamVid/train/0006R0_f03270.png  \n",
            "  inflating: CamVid/train/0006R0_f03300.png  \n",
            "  inflating: CamVid/train/0006R0_f03330.png  \n",
            "  inflating: CamVid/train/0006R0_f03360.png  \n",
            "  inflating: CamVid/train/0006R0_f03390.png  \n",
            "  inflating: CamVid/train/0006R0_f03420.png  \n",
            "  inflating: CamVid/train/0006R0_f03450.png  \n",
            "  inflating: CamVid/train/0006R0_f03480.png  \n",
            "  inflating: CamVid/train/0006R0_f03510.png  \n",
            "  inflating: CamVid/train/0006R0_f03540.png  \n",
            "  inflating: CamVid/train/0006R0_f03570.png  \n",
            "  inflating: CamVid/train/0006R0_f03600.png  \n",
            "  inflating: CamVid/train/0006R0_f03630.png  \n",
            "  inflating: CamVid/train/0006R0_f03660.png  \n",
            "  inflating: CamVid/train/0006R0_f03690.png  \n",
            "  inflating: CamVid/train/0006R0_f03720.png  \n",
            "  inflating: CamVid/train/0006R0_f03750.png  \n",
            "  inflating: CamVid/train/0006R0_f03780.png  \n",
            "  inflating: CamVid/train/0006R0_f03810.png  \n",
            "  inflating: CamVid/train/0006R0_f03840.png  \n",
            "  inflating: CamVid/train/0006R0_f03870.png  \n",
            "  inflating: CamVid/train/0006R0_f03900.png  \n",
            "  inflating: CamVid/train/0006R0_f03930.png  \n",
            "  inflating: CamVid/train/0016E5_00390.png  \n",
            "  inflating: CamVid/train/0016E5_00420.png  \n",
            "  inflating: CamVid/train/0016E5_00450.png  \n",
            "  inflating: CamVid/train/0016E5_00480.png  \n",
            "  inflating: CamVid/train/0016E5_00510.png  \n",
            "  inflating: CamVid/train/0016E5_00540.png  \n",
            "  inflating: CamVid/train/0016E5_00570.png  \n",
            "  inflating: CamVid/train/0016E5_00600.png  \n",
            "  inflating: CamVid/train/0016E5_00630.png  \n",
            "  inflating: CamVid/train/0016E5_00660.png  \n",
            "  inflating: CamVid/train/0016E5_00690.png  \n",
            "  inflating: CamVid/train/0016E5_00720.png  \n",
            "  inflating: CamVid/train/0016E5_00750.png  \n",
            "  inflating: CamVid/train/0016E5_00780.png  \n",
            "  inflating: CamVid/train/0016E5_00810.png  \n",
            "  inflating: CamVid/train/0016E5_00840.png  \n",
            "  inflating: CamVid/train/0016E5_00870.png  \n",
            "  inflating: CamVid/train/0016E5_00901.png  \n",
            "  inflating: CamVid/train/0016E5_00930.png  \n",
            "  inflating: CamVid/train/0016E5_00960.png  \n",
            "  inflating: CamVid/train/0016E5_00990.png  \n",
            "  inflating: CamVid/train/0016E5_01020.png  \n",
            "  inflating: CamVid/train/0016E5_01050.png  \n",
            "  inflating: CamVid/train/0016E5_01080.png  \n",
            "  inflating: CamVid/train/0016E5_01110.png  \n",
            "  inflating: CamVid/train/0016E5_01140.png  \n",
            "  inflating: CamVid/train/0016E5_01170.png  \n",
            "  inflating: CamVid/train/0016E5_01200.png  \n",
            "  inflating: CamVid/train/0016E5_01230.png  \n",
            "  inflating: CamVid/train/0016E5_01260.png  \n",
            "  inflating: CamVid/train/0016E5_01290.png  \n",
            "  inflating: CamVid/train/0016E5_01320.png  \n",
            "  inflating: CamVid/train/0016E5_01350.png  \n",
            "  inflating: CamVid/train/0016E5_01380.png  \n",
            "  inflating: CamVid/train/0016E5_01410.png  \n",
            "  inflating: CamVid/train/0016E5_01440.png  \n",
            "  inflating: CamVid/train/0016E5_01470.png  \n",
            "  inflating: CamVid/train/0016E5_01500.png  \n",
            "  inflating: CamVid/train/0016E5_01530.png  \n",
            "  inflating: CamVid/train/0016E5_01560.png  \n",
            "  inflating: CamVid/train/0016E5_01590.png  \n",
            "  inflating: CamVid/train/0016E5_01620.png  \n",
            "  inflating: CamVid/train/0016E5_01650.png  \n",
            "  inflating: CamVid/train/0016E5_01680.png  \n",
            "  inflating: CamVid/train/0016E5_01710.png  \n",
            "  inflating: CamVid/train/0016E5_01740.png  \n",
            "  inflating: CamVid/train/0016E5_01770.png  \n",
            "  inflating: CamVid/train/0016E5_01800.png  \n",
            "  inflating: CamVid/train/0016E5_01830.png  \n",
            "  inflating: CamVid/train/0016E5_01860.png  \n",
            "  inflating: CamVid/train/0016E5_01890.png  \n",
            "  inflating: CamVid/train/0016E5_01920.png  \n",
            "  inflating: CamVid/train/0016E5_01950.png  \n",
            "  inflating: CamVid/train/0016E5_01980.png  \n",
            "  inflating: CamVid/train/0016E5_02010.png  \n",
            "  inflating: CamVid/train/0016E5_02040.png  \n",
            "  inflating: CamVid/train/0016E5_02070.png  \n",
            "  inflating: CamVid/train/0016E5_02100.png  \n",
            "  inflating: CamVid/train/0016E5_02130.png  \n",
            "  inflating: CamVid/train/0016E5_02160.png  \n",
            "  inflating: CamVid/train/0016E5_02190.png  \n",
            "  inflating: CamVid/train/0016E5_02220.png  \n",
            "  inflating: CamVid/train/0016E5_02250.png  \n",
            "  inflating: CamVid/train/0016E5_02280.png  \n",
            "  inflating: CamVid/train/0016E5_02310.png  \n",
            "  inflating: CamVid/train/0016E5_02340.png  \n",
            "  inflating: CamVid/train/0016E5_02370.png  \n",
            "  inflating: CamVid/train/0016E5_02400.png  \n",
            "  inflating: CamVid/train/0016E5_04350.png  \n",
            "  inflating: CamVid/train/0016E5_04380.png  \n",
            "  inflating: CamVid/train/0016E5_04410.png  \n",
            "  inflating: CamVid/train/0016E5_04440.png  \n",
            "  inflating: CamVid/train/0016E5_04470.png  \n",
            "  inflating: CamVid/train/0016E5_04500.png  \n",
            "  inflating: CamVid/train/0016E5_04530.png  \n",
            "  inflating: CamVid/train/0016E5_04560.png  \n",
            "  inflating: CamVid/train/0016E5_04590.png  \n",
            "  inflating: CamVid/train/0016E5_04620.png  \n",
            "  inflating: CamVid/train/0016E5_04650.png  \n",
            "  inflating: CamVid/train/0016E5_04680.png  \n",
            "  inflating: CamVid/train/0016E5_04710.png  \n",
            "  inflating: CamVid/train/0016E5_04740.png  \n",
            "  inflating: CamVid/train/0016E5_04770.png  \n",
            "  inflating: CamVid/train/0016E5_04800.png  \n",
            "  inflating: CamVid/train/0016E5_04830.png  \n",
            "  inflating: CamVid/train/0016E5_04860.png  \n",
            "  inflating: CamVid/train/0016E5_04890.png  \n",
            "  inflating: CamVid/train/0016E5_04920.png  \n",
            "  inflating: CamVid/train/0016E5_04950.png  \n",
            "  inflating: CamVid/train/0016E5_04980.png  \n",
            "  inflating: CamVid/train/0016E5_05010.png  \n",
            "  inflating: CamVid/train/0016E5_05040.png  \n",
            "  inflating: CamVid/train/0016E5_05070.png  \n",
            "  inflating: CamVid/train/0016E5_05100.png  \n",
            "  inflating: CamVid/train/0016E5_05130.png  \n",
            "  inflating: CamVid/train/0016E5_05160.png  \n",
            "  inflating: CamVid/train/0016E5_05190.png  \n",
            "  inflating: CamVid/train/0016E5_05220.png  \n",
            "  inflating: CamVid/train/0016E5_05250.png  \n",
            "  inflating: CamVid/train/0016E5_05280.png  \n",
            "  inflating: CamVid/train/0016E5_05310.png  \n",
            "  inflating: CamVid/train/0016E5_05340.png  \n",
            "  inflating: CamVid/train/0016E5_05370.png  \n",
            "  inflating: CamVid/train/0016E5_05400.png  \n",
            "  inflating: CamVid/train/0016E5_05430.png  \n",
            "  inflating: CamVid/train/0016E5_05460.png  \n",
            "  inflating: CamVid/train/0016E5_05490.png  \n",
            "  inflating: CamVid/train/0016E5_05520.png  \n",
            "  inflating: CamVid/train/0016E5_05550.png  \n",
            "  inflating: CamVid/train/0016E5_05580.png  \n",
            "  inflating: CamVid/train/0016E5_05610.png  \n",
            "  inflating: CamVid/train/0016E5_05640.png  \n",
            "  inflating: CamVid/train/0016E5_05670.png  \n",
            "  inflating: CamVid/train/0016E5_05700.png  \n",
            "  inflating: CamVid/train/0016E5_05730.png  \n",
            "  inflating: CamVid/train/0016E5_05760.png  \n",
            "  inflating: CamVid/train/0016E5_05790.png  \n",
            "  inflating: CamVid/train/0016E5_05820.png  \n",
            "  inflating: CamVid/train/0016E5_05850.png  \n",
            "  inflating: CamVid/train/0016E5_05880.png  \n",
            "  inflating: CamVid/train/0016E5_05910.png  \n",
            "  inflating: CamVid/train/0016E5_05940.png  \n",
            "  inflating: CamVid/train/0016E5_05970.png  \n",
            "  inflating: CamVid/train/0016E5_06000.png  \n",
            "  inflating: CamVid/train/0016E5_06030.png  \n",
            "  inflating: CamVid/train/0016E5_06060.png  \n",
            "  inflating: CamVid/train/0016E5_06090.png  \n",
            "  inflating: CamVid/train/0016E5_06120.png  \n",
            "  inflating: CamVid/train/0016E5_06150.png  \n",
            "  inflating: CamVid/train/0016E5_06180.png  \n",
            "  inflating: CamVid/train/0016E5_06210.png  \n",
            "  inflating: CamVid/train/0016E5_06240.png  \n",
            "  inflating: CamVid/train/0016E5_06270.png  \n",
            "  inflating: CamVid/train/0016E5_06300.png  \n",
            "  inflating: CamVid/train/0016E5_06330.png  \n",
            "  inflating: CamVid/train/0016E5_06360.png  \n",
            "  inflating: CamVid/train/0016E5_06390.png  \n",
            "  inflating: CamVid/train/0016E5_06420.png  \n",
            "  inflating: CamVid/train/0016E5_06450.png  \n",
            "  inflating: CamVid/train/0016E5_06480.png  \n",
            "  inflating: CamVid/train/0016E5_06510.png  \n",
            "  inflating: CamVid/train/0016E5_06540.png  \n",
            "  inflating: CamVid/train/0016E5_06570.png  \n",
            "  inflating: CamVid/train/0016E5_06600.png  \n",
            "  inflating: CamVid/train/0016E5_06630.png  \n",
            "  inflating: CamVid/train/0016E5_06660.png  \n",
            "  inflating: CamVid/train/0016E5_06690.png  \n",
            "  inflating: CamVid/train/0016E5_06720.png  \n",
            "  inflating: CamVid/train/0016E5_06750.png  \n",
            "  inflating: CamVid/train/0016E5_06780.png  \n",
            "  inflating: CamVid/train/0016E5_06810.png  \n",
            "  inflating: CamVid/train/0016E5_06840.png  \n",
            "  inflating: CamVid/train/0016E5_06870.png  \n",
            "  inflating: CamVid/train/0016E5_06900.png  \n",
            "  inflating: CamVid/train/0016E5_06930.png  \n",
            "  inflating: CamVid/train/0016E5_06960.png  \n",
            "  inflating: CamVid/train/0016E5_06990.png  \n",
            "  inflating: CamVid/train/0016E5_07020.png  \n",
            "  inflating: CamVid/train/0016E5_07050.png  \n",
            "  inflating: CamVid/train/0016E5_07080.png  \n",
            "  inflating: CamVid/train/0016E5_07110.png  \n",
            "  inflating: CamVid/train/0016E5_07140.png  \n",
            "  inflating: CamVid/train/0016E5_07170.png  \n",
            "  inflating: CamVid/train/0016E5_07200.png  \n",
            "  inflating: CamVid/train/0016E5_07230.png  \n",
            "  inflating: CamVid/train/0016E5_07260.png  \n",
            "  inflating: CamVid/train/0016E5_07290.png  \n",
            "  inflating: CamVid/train/0016E5_07320.png  \n",
            "  inflating: CamVid/train/0016E5_07350.png  \n",
            "  inflating: CamVid/train/0016E5_07380.png  \n",
            "  inflating: CamVid/train/0016E5_07410.png  \n",
            "  inflating: CamVid/train/0016E5_07440.png  \n",
            "  inflating: CamVid/train/0016E5_07470.png  \n",
            "  inflating: CamVid/train/0016E5_07500.png  \n",
            "  inflating: CamVid/train/0016E5_07530.png  \n",
            "  inflating: CamVid/train/0016E5_07560.png  \n",
            "  inflating: CamVid/train/0016E5_07590.png  \n",
            "  inflating: CamVid/train/0016E5_07620.png  \n",
            "  inflating: CamVid/train/0016E5_07650.png  \n",
            "  inflating: CamVid/train/0016E5_07680.png  \n",
            "  inflating: CamVid/train/0016E5_07710.png  \n",
            "  inflating: CamVid/train/0016E5_07740.png  \n",
            "  inflating: CamVid/train/0016E5_07770.png  \n",
            "  inflating: CamVid/train/0016E5_07800.png  \n",
            "  inflating: CamVid/train/0016E5_07830.png  \n",
            "  inflating: CamVid/train/0016E5_07860.png  \n",
            "  inflating: CamVid/train/0016E5_07890.png  \n",
            "  inflating: CamVid/train/0016E5_07920.png  \n",
            "  inflating: CamVid/train/0016E5_08190.png  \n",
            "  inflating: CamVid/train/0016E5_08220.png  \n",
            "  inflating: CamVid/train/0016E5_08250.png  \n",
            "  inflating: CamVid/train/0016E5_08280.png  \n",
            "  inflating: CamVid/train/0016E5_08310.png  \n",
            "  inflating: CamVid/train/0016E5_08340.png  \n",
            "  inflating: CamVid/train/0016E5_08370.png  \n",
            "  inflating: CamVid/train/0016E5_08400.png  \n",
            "  inflating: CamVid/train/0016E5_08430.png  \n",
            "  inflating: CamVid/train/0016E5_08460.png  \n",
            "  inflating: CamVid/train/0016E5_08490.png  \n",
            "  inflating: CamVid/train/0016E5_08520.png  \n",
            "  inflating: CamVid/train/0016E5_08550.png  \n",
            "  inflating: CamVid/train/0016E5_08580.png  \n",
            "  inflating: CamVid/train/0016E5_08610.png  \n",
            "  inflating: CamVid/train/0016E5_08640.png  \n",
            " extracting: CamVid/train_labels/0001TP_006690.png  \n",
            " extracting: CamVid/train_labels/0001TP_006720.png  \n",
            " extracting: CamVid/train_labels/0001TP_006750.png  \n",
            " extracting: CamVid/train_labels/0001TP_006780.png  \n",
            " extracting: CamVid/train_labels/0001TP_006810.png  \n",
            " extracting: CamVid/train_labels/0001TP_006840.png  \n",
            " extracting: CamVid/train_labels/0001TP_006870.png  \n",
            " extracting: CamVid/train_labels/0001TP_006900.png  \n",
            " extracting: CamVid/train_labels/0001TP_006930.png  \n",
            "  inflating: CamVid/train_labels/0001TP_006960.png  \n",
            " extracting: CamVid/train_labels/0001TP_006990.png  \n",
            " extracting: CamVid/train_labels/0001TP_007020.png  \n",
            " extracting: CamVid/train_labels/0001TP_007050.png  \n",
            "  inflating: CamVid/train_labels/0001TP_007080.png  \n",
            " extracting: CamVid/train_labels/0001TP_007110.png  \n",
            " extracting: CamVid/train_labels/0001TP_007140.png  \n",
            " extracting: CamVid/train_labels/0001TP_007170.png  \n",
            " extracting: CamVid/train_labels/0001TP_007200.png  \n",
            " extracting: CamVid/train_labels/0001TP_007230.png  \n",
            " extracting: CamVid/train_labels/0001TP_007260.png  \n",
            " extracting: CamVid/train_labels/0001TP_007290.png  \n",
            " extracting: CamVid/train_labels/0001TP_007320.png  \n",
            " extracting: CamVid/train_labels/0001TP_007350.png  \n",
            " extracting: CamVid/train_labels/0001TP_007380.png  \n",
            " extracting: CamVid/train_labels/0001TP_007410.png  \n",
            " extracting: CamVid/train_labels/0001TP_007440.png  \n",
            " extracting: CamVid/train_labels/0001TP_007470.png  \n",
            " extracting: CamVid/train_labels/0001TP_007500.png  \n",
            " extracting: CamVid/train_labels/0001TP_007530.png  \n",
            " extracting: CamVid/train_labels/0001TP_007560.png  \n",
            " extracting: CamVid/train_labels/0001TP_007590.png  \n",
            " extracting: CamVid/train_labels/0001TP_007620.png  \n",
            " extracting: CamVid/train_labels/0001TP_007650.png  \n",
            "  inflating: CamVid/train_labels/0001TP_007680.png  \n",
            " extracting: CamVid/train_labels/0001TP_007710.png  \n",
            " extracting: CamVid/train_labels/0001TP_007740.png  \n",
            " extracting: CamVid/train_labels/0001TP_007770.png  \n",
            "  inflating: CamVid/train_labels/0001TP_007800.png  \n",
            " extracting: CamVid/train_labels/0001TP_007830.png  \n",
            " extracting: CamVid/train_labels/0001TP_007860.png  \n",
            " extracting: CamVid/train_labels/0001TP_007890.png  \n",
            " extracting: CamVid/train_labels/0001TP_007920.png  \n",
            " extracting: CamVid/train_labels/0001TP_007950.png  \n",
            " extracting: CamVid/train_labels/0001TP_007980.png  \n",
            " extracting: CamVid/train_labels/0001TP_008010.png  \n",
            " extracting: CamVid/train_labels/0001TP_008040.png  \n",
            " extracting: CamVid/train_labels/0001TP_008070.png  \n",
            " extracting: CamVid/train_labels/0001TP_008100.png  \n",
            " extracting: CamVid/train_labels/0001TP_008130.png  \n",
            " extracting: CamVid/train_labels/0001TP_008160.png  \n",
            " extracting: CamVid/train_labels/0001TP_008190.png  \n",
            " extracting: CamVid/train_labels/0001TP_008220.png  \n",
            " extracting: CamVid/train_labels/0001TP_008250.png  \n",
            " extracting: CamVid/train_labels/0001TP_008280.png  \n",
            " extracting: CamVid/train_labels/0001TP_008310.png  \n",
            " extracting: CamVid/train_labels/0001TP_008340.png  \n",
            " extracting: CamVid/train_labels/0001TP_008370.png  \n",
            " extracting: CamVid/train_labels/0001TP_008400.png  \n",
            " extracting: CamVid/train_labels/0001TP_008430.png  \n",
            " extracting: CamVid/train_labels/0001TP_008460.png  \n",
            " extracting: CamVid/train_labels/0001TP_008490.png  \n",
            " extracting: CamVid/train_labels/0001TP_008520.png  \n",
            "  inflating: CamVid/train_labels/0006R0_f00930.png  \n",
            "  inflating: CamVid/train_labels/0006R0_f00960.png  \n",
            "  inflating: CamVid/train_labels/0006R0_f00990.png  \n",
            "  inflating: CamVid/train_labels/0006R0_f01020.png  \n",
            "  inflating: CamVid/train_labels/0006R0_f01050.png  \n",
            "  inflating: CamVid/train_labels/0006R0_f01080.png  \n",
            "  inflating: CamVid/train_labels/0006R0_f01110.png  \n",
            "  inflating: CamVid/train_labels/0006R0_f01140.png  \n",
            "  inflating: CamVid/train_labels/0006R0_f01170.png  \n",
            "  inflating: CamVid/train_labels/0006R0_f01200.png  \n",
            "  inflating: CamVid/train_labels/0006R0_f01230.png  \n",
            "  inflating: CamVid/train_labels/0006R0_f01260.png  \n",
            "  inflating: CamVid/train_labels/0006R0_f01290.png  \n",
            "  inflating: CamVid/train_labels/0006R0_f01320.png  \n",
            "  inflating: CamVid/train_labels/0006R0_f01350.png  \n",
            "  inflating: CamVid/train_labels/0006R0_f01380.png  \n",
            "  inflating: CamVid/train_labels/0006R0_f01410.png  \n",
            "  inflating: CamVid/train_labels/0006R0_f01440.png  \n",
            "  inflating: CamVid/train_labels/0006R0_f01470.png  \n",
            "  inflating: CamVid/train_labels/0006R0_f01500.png  \n",
            "  inflating: CamVid/train_labels/0006R0_f01530.png  \n",
            " extracting: CamVid/train_labels/0006R0_f01560.png  \n",
            "  inflating: CamVid/train_labels/0006R0_f01590.png  \n",
            "  inflating: CamVid/train_labels/0006R0_f01620.png  \n",
            "  inflating: CamVid/train_labels/0006R0_f01650.png  \n",
            "  inflating: CamVid/train_labels/0006R0_f01680.png  \n",
            "  inflating: CamVid/train_labels/0006R0_f01710.png  \n",
            "  inflating: CamVid/train_labels/0006R0_f01740.png  \n",
            "  inflating: CamVid/train_labels/0006R0_f01770.png  \n",
            "  inflating: CamVid/train_labels/0006R0_f01800.png  \n",
            "  inflating: CamVid/train_labels/0006R0_f01830.png  \n",
            "  inflating: CamVid/train_labels/0006R0_f01860.png  \n",
            "  inflating: CamVid/train_labels/0006R0_f01890.png  \n",
            "  inflating: CamVid/train_labels/0006R0_f01920.png  \n",
            "  inflating: CamVid/train_labels/0006R0_f01950.png  \n",
            "  inflating: CamVid/train_labels/0006R0_f01980.png  \n",
            " extracting: CamVid/train_labels/0006R0_f02010.png  \n",
            " extracting: CamVid/train_labels/0006R0_f02040.png  \n",
            "  inflating: CamVid/train_labels/0006R0_f02070.png  \n",
            "  inflating: CamVid/train_labels/0006R0_f02100.png  \n",
            "  inflating: CamVid/train_labels/0006R0_f02130.png  \n",
            "  inflating: CamVid/train_labels/0006R0_f02160.png  \n",
            "  inflating: CamVid/train_labels/0006R0_f02190.png  \n",
            "  inflating: CamVid/train_labels/0006R0_f02220.png  \n",
            "  inflating: CamVid/train_labels/0006R0_f02250.png  \n",
            "  inflating: CamVid/train_labels/0006R0_f02280.png  \n",
            "  inflating: CamVid/train_labels/0006R0_f02310.png  \n",
            "  inflating: CamVid/train_labels/0006R0_f02340.png  \n",
            "  inflating: CamVid/train_labels/0006R0_f02370.png  \n",
            "  inflating: CamVid/train_labels/0006R0_f02400.png  \n",
            "  inflating: CamVid/train_labels/0006R0_f02430.png  \n",
            "  inflating: CamVid/train_labels/0006R0_f02460.png  \n",
            "  inflating: CamVid/train_labels/0006R0_f02490.png  \n",
            " extracting: CamVid/train_labels/0006R0_f02520.png  \n",
            "  inflating: CamVid/train_labels/0006R0_f02550.png  \n",
            "  inflating: CamVid/train_labels/0006R0_f02580.png  \n",
            "  inflating: CamVid/train_labels/0006R0_f02610.png  \n",
            "  inflating: CamVid/train_labels/0006R0_f02640.png  \n",
            "  inflating: CamVid/train_labels/0006R0_f02670.png  \n",
            "  inflating: CamVid/train_labels/0006R0_f02700.png  \n",
            "  inflating: CamVid/train_labels/0006R0_f02730.png  \n",
            "  inflating: CamVid/train_labels/0006R0_f02760.png  \n",
            "  inflating: CamVid/train_labels/0006R0_f02790.png  \n",
            "  inflating: CamVid/train_labels/0006R0_f02820.png  \n",
            "  inflating: CamVid/train_labels/0006R0_f02850.png  \n",
            "  inflating: CamVid/train_labels/0006R0_f02880.png  \n",
            "  inflating: CamVid/train_labels/0006R0_f02910.png  \n",
            "  inflating: CamVid/train_labels/0006R0_f02940.png  \n",
            "  inflating: CamVid/train_labels/0006R0_f02970.png  \n",
            "  inflating: CamVid/train_labels/0006R0_f03000.png  \n",
            "  inflating: CamVid/train_labels/0006R0_f03030.png  \n",
            "  inflating: CamVid/train_labels/0006R0_f03060.png  \n",
            "  inflating: CamVid/train_labels/0006R0_f03090.png  \n",
            "  inflating: CamVid/train_labels/0006R0_f03120.png  \n",
            "  inflating: CamVid/train_labels/0006R0_f03150.png  \n",
            "  inflating: CamVid/train_labels/0006R0_f03180.png  \n",
            "  inflating: CamVid/train_labels/0006R0_f03210.png  \n",
            "  inflating: CamVid/train_labels/0006R0_f03240.png  \n",
            "  inflating: CamVid/train_labels/0006R0_f03270.png  \n",
            " extracting: CamVid/train_labels/0006R0_f03300.png  \n",
            "  inflating: CamVid/train_labels/0006R0_f03330.png  \n",
            "  inflating: CamVid/train_labels/0006R0_f03360.png  \n",
            "  inflating: CamVid/train_labels/0006R0_f03390.png  \n",
            "  inflating: CamVid/train_labels/0006R0_f03420.png  \n",
            "  inflating: CamVid/train_labels/0006R0_f03450.png  \n",
            "  inflating: CamVid/train_labels/0006R0_f03480.png  \n",
            "  inflating: CamVid/train_labels/0006R0_f03510.png  \n",
            "  inflating: CamVid/train_labels/0006R0_f03540.png  \n",
            "  inflating: CamVid/train_labels/0006R0_f03570.png  \n",
            "  inflating: CamVid/train_labels/0006R0_f03600.png  \n",
            "  inflating: CamVid/train_labels/0006R0_f03630.png  \n",
            "  inflating: CamVid/train_labels/0006R0_f03660.png  \n",
            "  inflating: CamVid/train_labels/0006R0_f03690.png  \n",
            "  inflating: CamVid/train_labels/0006R0_f03720.png  \n",
            "  inflating: CamVid/train_labels/0006R0_f03750.png  \n",
            "  inflating: CamVid/train_labels/0006R0_f03780.png  \n",
            " extracting: CamVid/train_labels/0006R0_f03810.png  \n",
            " extracting: CamVid/train_labels/0006R0_f03840.png  \n",
            " extracting: CamVid/train_labels/0006R0_f03870.png  \n",
            " extracting: CamVid/train_labels/0006R0_f03900.png  \n",
            " extracting: CamVid/train_labels/0006R0_f03930.png  \n",
            "  inflating: CamVid/train_labels/0016E5_00390.png  \n",
            " extracting: CamVid/train_labels/0016E5_00420.png  \n",
            "  inflating: CamVid/train_labels/0016E5_00450.png  \n",
            "  inflating: CamVid/train_labels/0016E5_00480.png  \n",
            "  inflating: CamVid/train_labels/0016E5_00510.png  \n",
            "  inflating: CamVid/train_labels/0016E5_00540.png  \n",
            "  inflating: CamVid/train_labels/0016E5_00570.png  \n",
            "  inflating: CamVid/train_labels/0016E5_00600.png  \n",
            "  inflating: CamVid/train_labels/0016E5_00630.png  \n",
            "  inflating: CamVid/train_labels/0016E5_00660.png  \n",
            "  inflating: CamVid/train_labels/0016E5_00690.png  \n",
            "  inflating: CamVid/train_labels/0016E5_00720.png  \n",
            " extracting: CamVid/train_labels/0016E5_00750.png  \n",
            "  inflating: CamVid/train_labels/0016E5_00780.png  \n",
            "  inflating: CamVid/train_labels/0016E5_00810.png  \n",
            "  inflating: CamVid/train_labels/0016E5_00840.png  \n",
            "  inflating: CamVid/train_labels/0016E5_00870.png  \n",
            "  inflating: CamVid/train_labels/0016E5_00901.png  \n",
            "  inflating: CamVid/train_labels/0016E5_00930.png  \n",
            "  inflating: CamVid/train_labels/0016E5_00960.png  \n",
            "  inflating: CamVid/train_labels/0016E5_00990.png  \n",
            "  inflating: CamVid/train_labels/0016E5_01020.png  \n",
            "  inflating: CamVid/train_labels/0016E5_01050.png  \n",
            "  inflating: CamVid/train_labels/0016E5_01080.png  \n",
            "  inflating: CamVid/train_labels/0016E5_01110.png  \n",
            " extracting: CamVid/train_labels/0016E5_01140.png  \n",
            "  inflating: CamVid/train_labels/0016E5_01170.png  \n",
            "  inflating: CamVid/train_labels/0016E5_01200.png  \n",
            "  inflating: CamVid/train_labels/0016E5_01230.png  \n",
            "  inflating: CamVid/train_labels/0016E5_01260.png  \n",
            " extracting: CamVid/train_labels/0016E5_01290.png  \n",
            "  inflating: CamVid/train_labels/0016E5_01320.png  \n",
            "  inflating: CamVid/train_labels/0016E5_01350.png  \n",
            " extracting: CamVid/train_labels/0016E5_01380.png  \n",
            "  inflating: CamVid/train_labels/0016E5_01410.png  \n",
            "  inflating: CamVid/train_labels/0016E5_01440.png  \n",
            "  inflating: CamVid/train_labels/0016E5_01470.png  \n",
            "  inflating: CamVid/train_labels/0016E5_01500.png  \n",
            " extracting: CamVid/train_labels/0016E5_01530.png  \n",
            " extracting: CamVid/train_labels/0016E5_01560.png  \n",
            " extracting: CamVid/train_labels/0016E5_01590.png  \n",
            " extracting: CamVid/train_labels/0016E5_01620.png  \n",
            " extracting: CamVid/train_labels/0016E5_01650.png  \n",
            " extracting: CamVid/train_labels/0016E5_01680.png  \n",
            " extracting: CamVid/train_labels/0016E5_01710.png  \n",
            " extracting: CamVid/train_labels/0016E5_01740.png  \n",
            " extracting: CamVid/train_labels/0016E5_01770.png  \n",
            " extracting: CamVid/train_labels/0016E5_01800.png  \n",
            " extracting: CamVid/train_labels/0016E5_01830.png  \n",
            " extracting: CamVid/train_labels/0016E5_01860.png  \n",
            "  inflating: CamVid/train_labels/0016E5_01890.png  \n",
            " extracting: CamVid/train_labels/0016E5_01920.png  \n",
            " extracting: CamVid/train_labels/0016E5_01950.png  \n",
            " extracting: CamVid/train_labels/0016E5_01980.png  \n",
            "  inflating: CamVid/train_labels/0016E5_02010.png  \n",
            " extracting: CamVid/train_labels/0016E5_02040.png  \n",
            "  inflating: CamVid/train_labels/0016E5_02070.png  \n",
            " extracting: CamVid/train_labels/0016E5_02100.png  \n",
            " extracting: CamVid/train_labels/0016E5_02130.png  \n",
            "  inflating: CamVid/train_labels/0016E5_02160.png  \n",
            " extracting: CamVid/train_labels/0016E5_02190.png  \n",
            " extracting: CamVid/train_labels/0016E5_02220.png  \n",
            " extracting: CamVid/train_labels/0016E5_02250.png  \n",
            " extracting: CamVid/train_labels/0016E5_02280.png  \n",
            " extracting: CamVid/train_labels/0016E5_02310.png  \n",
            " extracting: CamVid/train_labels/0016E5_02340.png  \n",
            " extracting: CamVid/train_labels/0016E5_02370.png  \n",
            " extracting: CamVid/train_labels/0016E5_02400.png  \n",
            " extracting: CamVid/train_labels/0016E5_04350.png  \n",
            "  inflating: CamVid/train_labels/0016E5_04380.png  \n",
            "  inflating: CamVid/train_labels/0016E5_04410.png  \n",
            "  inflating: CamVid/train_labels/0016E5_04440.png  \n",
            "  inflating: CamVid/train_labels/0016E5_04470.png  \n",
            "  inflating: CamVid/train_labels/0016E5_04500.png  \n",
            "  inflating: CamVid/train_labels/0016E5_04530.png  \n",
            "  inflating: CamVid/train_labels/0016E5_04560.png  \n",
            "  inflating: CamVid/train_labels/0016E5_04590.png  \n",
            " extracting: CamVid/train_labels/0016E5_04620.png  \n",
            "  inflating: CamVid/train_labels/0016E5_04650.png  \n",
            "  inflating: CamVid/train_labels/0016E5_04680.png  \n",
            "  inflating: CamVid/train_labels/0016E5_04710.png  \n",
            "  inflating: CamVid/train_labels/0016E5_04740.png  \n",
            "  inflating: CamVid/train_labels/0016E5_04770.png  \n",
            "  inflating: CamVid/train_labels/0016E5_04800.png  \n",
            "  inflating: CamVid/train_labels/0016E5_04830.png  \n",
            "  inflating: CamVid/train_labels/0016E5_04860.png  \n",
            "  inflating: CamVid/train_labels/0016E5_04890.png  \n",
            "  inflating: CamVid/train_labels/0016E5_04920.png  \n",
            "  inflating: CamVid/train_labels/0016E5_04950.png  \n",
            "  inflating: CamVid/train_labels/0016E5_04980.png  \n",
            "  inflating: CamVid/train_labels/0016E5_05010.png  \n",
            "  inflating: CamVid/train_labels/0016E5_05040.png  \n",
            "  inflating: CamVid/train_labels/0016E5_05070.png  \n",
            "  inflating: CamVid/train_labels/0016E5_05100.png  \n",
            "  inflating: CamVid/train_labels/0016E5_05130.png  \n",
            "  inflating: CamVid/train_labels/0016E5_05160.png  \n",
            "  inflating: CamVid/train_labels/0016E5_05190.png  \n",
            "  inflating: CamVid/train_labels/0016E5_05220.png  \n",
            "  inflating: CamVid/train_labels/0016E5_05250.png  \n",
            "  inflating: CamVid/train_labels/0016E5_05280.png  \n",
            "  inflating: CamVid/train_labels/0016E5_05310.png  \n",
            " extracting: CamVid/train_labels/0016E5_05340.png  \n",
            "  inflating: CamVid/train_labels/0016E5_05370.png  \n",
            "  inflating: CamVid/train_labels/0016E5_05400.png  \n",
            "  inflating: CamVid/train_labels/0016E5_05430.png  \n",
            " extracting: CamVid/train_labels/0016E5_05460.png  \n",
            "  inflating: CamVid/train_labels/0016E5_05490.png  \n",
            "  inflating: CamVid/train_labels/0016E5_05520.png  \n",
            "  inflating: CamVid/train_labels/0016E5_05550.png  \n",
            "  inflating: CamVid/train_labels/0016E5_05580.png  \n",
            "  inflating: CamVid/train_labels/0016E5_05610.png  \n",
            "  inflating: CamVid/train_labels/0016E5_05640.png  \n",
            "  inflating: CamVid/train_labels/0016E5_05670.png  \n",
            "  inflating: CamVid/train_labels/0016E5_05700.png  \n",
            "  inflating: CamVid/train_labels/0016E5_05730.png  \n",
            "  inflating: CamVid/train_labels/0016E5_05760.png  \n",
            "  inflating: CamVid/train_labels/0016E5_05790.png  \n",
            " extracting: CamVid/train_labels/0016E5_05820.png  \n",
            " extracting: CamVid/train_labels/0016E5_05850.png  \n",
            "  inflating: CamVid/train_labels/0016E5_05880.png  \n",
            " extracting: CamVid/train_labels/0016E5_05910.png  \n",
            "  inflating: CamVid/train_labels/0016E5_05940.png  \n",
            " extracting: CamVid/train_labels/0016E5_05970.png  \n",
            " extracting: CamVid/train_labels/0016E5_06000.png  \n",
            " extracting: CamVid/train_labels/0016E5_06030.png  \n",
            " extracting: CamVid/train_labels/0016E5_06060.png  \n",
            "  inflating: CamVid/train_labels/0016E5_06090.png  \n",
            "  inflating: CamVid/train_labels/0016E5_06120.png  \n",
            "  inflating: CamVid/train_labels/0016E5_06150.png  \n",
            "  inflating: CamVid/train_labels/0016E5_06180.png  \n",
            "  inflating: CamVid/train_labels/0016E5_06210.png  \n",
            "  inflating: CamVid/train_labels/0016E5_06240.png  \n",
            "  inflating: CamVid/train_labels/0016E5_06270.png  \n",
            "  inflating: CamVid/train_labels/0016E5_06300.png  \n",
            "  inflating: CamVid/train_labels/0016E5_06330.png  \n",
            "  inflating: CamVid/train_labels/0016E5_06360.png  \n",
            "  inflating: CamVid/train_labels/0016E5_06390.png  \n",
            "  inflating: CamVid/train_labels/0016E5_06420.png  \n",
            "  inflating: CamVid/train_labels/0016E5_06450.png  \n",
            "  inflating: CamVid/train_labels/0016E5_06480.png  \n",
            "  inflating: CamVid/train_labels/0016E5_06510.png  \n",
            "  inflating: CamVid/train_labels/0016E5_06540.png  \n",
            " extracting: CamVid/train_labels/0016E5_06570.png  \n",
            "  inflating: CamVid/train_labels/0016E5_06600.png  \n",
            "  inflating: CamVid/train_labels/0016E5_06630.png  \n",
            "  inflating: CamVid/train_labels/0016E5_06660.png  \n",
            "  inflating: CamVid/train_labels/0016E5_06690.png  \n",
            " extracting: CamVid/train_labels/0016E5_06720.png  \n",
            "  inflating: CamVid/train_labels/0016E5_06750.png  \n",
            "  inflating: CamVid/train_labels/0016E5_06780.png  \n",
            "  inflating: CamVid/train_labels/0016E5_06810.png  \n",
            "  inflating: CamVid/train_labels/0016E5_06840.png  \n",
            " extracting: CamVid/train_labels/0016E5_06870.png  \n",
            "  inflating: CamVid/train_labels/0016E5_06900.png  \n",
            "  inflating: CamVid/train_labels/0016E5_06930.png  \n",
            "  inflating: CamVid/train_labels/0016E5_06960.png  \n",
            " extracting: CamVid/train_labels/0016E5_06990.png  \n",
            " extracting: CamVid/train_labels/0016E5_07020.png  \n",
            " extracting: CamVid/train_labels/0016E5_07050.png  \n",
            " extracting: CamVid/train_labels/0016E5_07080.png  \n",
            "  inflating: CamVid/train_labels/0016E5_07110.png  \n",
            "  inflating: CamVid/train_labels/0016E5_07140.png  \n",
            "  inflating: CamVid/train_labels/0016E5_07170.png  \n",
            " extracting: CamVid/train_labels/0016E5_07200.png  \n",
            "  inflating: CamVid/train_labels/0016E5_07230.png  \n",
            "  inflating: CamVid/train_labels/0016E5_07260.png  \n",
            " extracting: CamVid/train_labels/0016E5_07290.png  \n",
            " extracting: CamVid/train_labels/0016E5_07320.png  \n",
            " extracting: CamVid/train_labels/0016E5_07350.png  \n",
            "  inflating: CamVid/train_labels/0016E5_07380.png  \n",
            "  inflating: CamVid/train_labels/0016E5_07410.png  \n",
            "  inflating: CamVid/train_labels/0016E5_07440.png  \n",
            "  inflating: CamVid/train_labels/0016E5_07470.png  \n",
            "  inflating: CamVid/train_labels/0016E5_07500.png  \n",
            "  inflating: CamVid/train_labels/0016E5_07530.png  \n",
            "  inflating: CamVid/train_labels/0016E5_07560.png  \n",
            "  inflating: CamVid/train_labels/0016E5_07590.png  \n",
            "  inflating: CamVid/train_labels/0016E5_07620.png  \n",
            " extracting: CamVid/train_labels/0016E5_07650.png  \n",
            " extracting: CamVid/train_labels/0016E5_07680.png  \n",
            " extracting: CamVid/train_labels/0016E5_07710.png  \n",
            " extracting: CamVid/train_labels/0016E5_07740.png  \n",
            " extracting: CamVid/train_labels/0016E5_07770.png  \n",
            " extracting: CamVid/train_labels/0016E5_07800.png  \n",
            " extracting: CamVid/train_labels/0016E5_07830.png  \n",
            "  inflating: CamVid/train_labels/0016E5_07860.png  \n",
            " extracting: CamVid/train_labels/0016E5_07890.png  \n",
            "  inflating: CamVid/train_labels/0016E5_07920.png  \n",
            "  inflating: CamVid/train_labels/0016E5_08190.png  \n",
            "  inflating: CamVid/train_labels/0016E5_08220.png  \n",
            "  inflating: CamVid/train_labels/0016E5_08250.png  \n",
            " extracting: CamVid/train_labels/0016E5_08280.png  \n",
            " extracting: CamVid/train_labels/0016E5_08310.png  \n",
            " extracting: CamVid/train_labels/0016E5_08340.png  \n",
            "  inflating: CamVid/train_labels/0016E5_08370.png  \n",
            "  inflating: CamVid/train_labels/0016E5_08400.png  \n",
            "  inflating: CamVid/train_labels/0016E5_08430.png  \n",
            "  inflating: CamVid/train_labels/0016E5_08460.png  \n",
            "  inflating: CamVid/train_labels/0016E5_08490.png  \n",
            " extracting: CamVid/train_labels/0016E5_08520.png  \n",
            " extracting: CamVid/train_labels/0016E5_08550.png  \n",
            "  inflating: CamVid/train_labels/0016E5_08580.png  \n",
            "  inflating: CamVid/train_labels/0016E5_08610.png  \n",
            "  inflating: CamVid/train_labels/0016E5_08640.png  \n",
            "  inflating: CamVid/val/0016E5_07959.png  \n",
            "  inflating: CamVid/val/0016E5_07961.png  \n",
            "  inflating: CamVid/val/0016E5_07963.png  \n",
            "  inflating: CamVid/val/0016E5_07965.png  \n",
            "  inflating: CamVid/val/0016E5_07967.png  \n",
            "  inflating: CamVid/val/0016E5_07969.png  \n",
            "  inflating: CamVid/val/0016E5_07971.png  \n",
            "  inflating: CamVid/val/0016E5_07973.png  \n",
            "  inflating: CamVid/val/0016E5_07975.png  \n",
            "  inflating: CamVid/val/0016E5_07977.png  \n",
            "  inflating: CamVid/val/0016E5_07979.png  \n",
            "  inflating: CamVid/val/0016E5_07981.png  \n",
            "  inflating: CamVid/val/0016E5_07983.png  \n",
            "  inflating: CamVid/val/0016E5_07985.png  \n",
            "  inflating: CamVid/val/0016E5_07987.png  \n",
            "  inflating: CamVid/val/0016E5_07989.png  \n",
            "  inflating: CamVid/val/0016E5_07991.png  \n",
            "  inflating: CamVid/val/0016E5_07993.png  \n",
            "  inflating: CamVid/val/0016E5_07995.png  \n",
            "  inflating: CamVid/val/0016E5_07997.png  \n",
            "  inflating: CamVid/val/0016E5_07999.png  \n",
            "  inflating: CamVid/val/0016E5_08001.png  \n",
            "  inflating: CamVid/val/0016E5_08003.png  \n",
            "  inflating: CamVid/val/0016E5_08005.png  \n",
            "  inflating: CamVid/val/0016E5_08007.png  \n",
            "  inflating: CamVid/val/0016E5_08009.png  \n",
            "  inflating: CamVid/val/0016E5_08011.png  \n",
            "  inflating: CamVid/val/0016E5_08013.png  \n",
            "  inflating: CamVid/val/0016E5_08015.png  \n",
            "  inflating: CamVid/val/0016E5_08017.png  \n",
            "  inflating: CamVid/val/0016E5_08019.png  \n",
            "  inflating: CamVid/val/0016E5_08021.png  \n",
            "  inflating: CamVid/val/0016E5_08023.png  \n",
            "  inflating: CamVid/val/0016E5_08025.png  \n",
            "  inflating: CamVid/val/0016E5_08027.png  \n",
            "  inflating: CamVid/val/0016E5_08029.png  \n",
            "  inflating: CamVid/val/0016E5_08031.png  \n",
            "  inflating: CamVid/val/0016E5_08033.png  \n",
            "  inflating: CamVid/val/0016E5_08035.png  \n",
            "  inflating: CamVid/val/0016E5_08037.png  \n",
            "  inflating: CamVid/val/0016E5_08039.png  \n",
            "  inflating: CamVid/val/0016E5_08041.png  \n",
            "  inflating: CamVid/val/0016E5_08043.png  \n",
            "  inflating: CamVid/val/0016E5_08045.png  \n",
            "  inflating: CamVid/val/0016E5_08047.png  \n",
            "  inflating: CamVid/val/0016E5_08049.png  \n",
            "  inflating: CamVid/val/0016E5_08051.png  \n",
            "  inflating: CamVid/val/0016E5_08053.png  \n",
            "  inflating: CamVid/val/0016E5_08055.png  \n",
            "  inflating: CamVid/val/0016E5_08057.png  \n",
            "  inflating: CamVid/val/0016E5_08059.png  \n",
            "  inflating: CamVid/val/0016E5_08061.png  \n",
            "  inflating: CamVid/val/0016E5_08063.png  \n",
            "  inflating: CamVid/val/0016E5_08065.png  \n",
            "  inflating: CamVid/val/0016E5_08067.png  \n",
            "  inflating: CamVid/val/0016E5_08069.png  \n",
            "  inflating: CamVid/val/0016E5_08071.png  \n",
            "  inflating: CamVid/val/0016E5_08073.png  \n",
            "  inflating: CamVid/val/0016E5_08075.png  \n",
            "  inflating: CamVid/val/0016E5_08077.png  \n",
            "  inflating: CamVid/val/0016E5_08079.png  \n",
            "  inflating: CamVid/val/0016E5_08081.png  \n",
            "  inflating: CamVid/val/0016E5_08083.png  \n",
            "  inflating: CamVid/val/0016E5_08085.png  \n",
            "  inflating: CamVid/val/0016E5_08087.png  \n",
            "  inflating: CamVid/val/0016E5_08089.png  \n",
            "  inflating: CamVid/val/0016E5_08091.png  \n",
            "  inflating: CamVid/val/0016E5_08093.png  \n",
            "  inflating: CamVid/val/0016E5_08095.png  \n",
            "  inflating: CamVid/val/0016E5_08097.png  \n",
            "  inflating: CamVid/val/0016E5_08099.png  \n",
            "  inflating: CamVid/val/0016E5_08101.png  \n",
            "  inflating: CamVid/val/0016E5_08103.png  \n",
            "  inflating: CamVid/val/0016E5_08105.png  \n",
            "  inflating: CamVid/val/0016E5_08107.png  \n",
            "  inflating: CamVid/val/0016E5_08109.png  \n",
            "  inflating: CamVid/val/0016E5_08111.png  \n",
            "  inflating: CamVid/val/0016E5_08113.png  \n",
            "  inflating: CamVid/val/0016E5_08115.png  \n",
            "  inflating: CamVid/val/0016E5_08117.png  \n",
            "  inflating: CamVid/val/0016E5_08119.png  \n",
            "  inflating: CamVid/val/0016E5_08121.png  \n",
            "  inflating: CamVid/val/0016E5_08123.png  \n",
            "  inflating: CamVid/val/0016E5_08125.png  \n",
            "  inflating: CamVid/val/0016E5_08127.png  \n",
            "  inflating: CamVid/val/0016E5_08129.png  \n",
            "  inflating: CamVid/val/0016E5_08131.png  \n",
            "  inflating: CamVid/val/0016E5_08133.png  \n",
            "  inflating: CamVid/val/0016E5_08135.png  \n",
            "  inflating: CamVid/val/0016E5_08137.png  \n",
            "  inflating: CamVid/val/0016E5_08139.png  \n",
            "  inflating: CamVid/val/0016E5_08141.png  \n",
            "  inflating: CamVid/val/0016E5_08143.png  \n",
            "  inflating: CamVid/val/0016E5_08145.png  \n",
            "  inflating: CamVid/val/0016E5_08147.png  \n",
            "  inflating: CamVid/val/0016E5_08149.png  \n",
            "  inflating: CamVid/val/0016E5_08151.png  \n",
            "  inflating: CamVid/val/0016E5_08153.png  \n",
            "  inflating: CamVid/val/0016E5_08155.png  \n",
            "  inflating: CamVid/val/0016E5_08157.png  \n",
            "  inflating: CamVid/val/0016E5_08159.png  \n",
            " extracting: CamVid/val_labels/0016E5_07959.png  \n",
            " extracting: CamVid/val_labels/0016E5_07961.png  \n",
            " extracting: CamVid/val_labels/0016E5_07963.png  \n",
            " extracting: CamVid/val_labels/0016E5_07965.png  \n",
            " extracting: CamVid/val_labels/0016E5_07967.png  \n",
            " extracting: CamVid/val_labels/0016E5_07969.png  \n",
            " extracting: CamVid/val_labels/0016E5_07971.png  \n",
            " extracting: CamVid/val_labels/0016E5_07973.png  \n",
            " extracting: CamVid/val_labels/0016E5_07975.png  \n",
            " extracting: CamVid/val_labels/0016E5_07977.png  \n",
            " extracting: CamVid/val_labels/0016E5_07979.png  \n",
            " extracting: CamVid/val_labels/0016E5_07981.png  \n",
            " extracting: CamVid/val_labels/0016E5_07983.png  \n",
            " extracting: CamVid/val_labels/0016E5_07985.png  \n",
            " extracting: CamVid/val_labels/0016E5_07987.png  \n",
            " extracting: CamVid/val_labels/0016E5_07989.png  \n",
            " extracting: CamVid/val_labels/0016E5_07991.png  \n",
            " extracting: CamVid/val_labels/0016E5_07993.png  \n",
            " extracting: CamVid/val_labels/0016E5_07995.png  \n",
            " extracting: CamVid/val_labels/0016E5_07997.png  \n",
            " extracting: CamVid/val_labels/0016E5_07999.png  \n",
            " extracting: CamVid/val_labels/0016E5_08001.png  \n",
            " extracting: CamVid/val_labels/0016E5_08003.png  \n",
            " extracting: CamVid/val_labels/0016E5_08005.png  \n",
            " extracting: CamVid/val_labels/0016E5_08007.png  \n",
            " extracting: CamVid/val_labels/0016E5_08009.png  \n",
            " extracting: CamVid/val_labels/0016E5_08011.png  \n",
            " extracting: CamVid/val_labels/0016E5_08013.png  \n",
            " extracting: CamVid/val_labels/0016E5_08015.png  \n",
            " extracting: CamVid/val_labels/0016E5_08017.png  \n",
            " extracting: CamVid/val_labels/0016E5_08019.png  \n",
            " extracting: CamVid/val_labels/0016E5_08021.png  \n",
            " extracting: CamVid/val_labels/0016E5_08023.png  \n",
            " extracting: CamVid/val_labels/0016E5_08025.png  \n",
            " extracting: CamVid/val_labels/0016E5_08027.png  \n",
            " extracting: CamVid/val_labels/0016E5_08029.png  \n",
            " extracting: CamVid/val_labels/0016E5_08031.png  \n",
            " extracting: CamVid/val_labels/0016E5_08033.png  \n",
            " extracting: CamVid/val_labels/0016E5_08035.png  \n",
            " extracting: CamVid/val_labels/0016E5_08037.png  \n",
            " extracting: CamVid/val_labels/0016E5_08039.png  \n",
            " extracting: CamVid/val_labels/0016E5_08041.png  \n",
            " extracting: CamVid/val_labels/0016E5_08043.png  \n",
            " extracting: CamVid/val_labels/0016E5_08045.png  \n",
            " extracting: CamVid/val_labels/0016E5_08047.png  \n",
            " extracting: CamVid/val_labels/0016E5_08049.png  \n",
            " extracting: CamVid/val_labels/0016E5_08051.png  \n",
            " extracting: CamVid/val_labels/0016E5_08053.png  \n",
            " extracting: CamVid/val_labels/0016E5_08055.png  \n",
            " extracting: CamVid/val_labels/0016E5_08057.png  \n",
            " extracting: CamVid/val_labels/0016E5_08059.png  \n",
            " extracting: CamVid/val_labels/0016E5_08061.png  \n",
            " extracting: CamVid/val_labels/0016E5_08063.png  \n",
            " extracting: CamVid/val_labels/0016E5_08065.png  \n",
            " extracting: CamVid/val_labels/0016E5_08067.png  \n",
            " extracting: CamVid/val_labels/0016E5_08069.png  \n",
            " extracting: CamVid/val_labels/0016E5_08071.png  \n",
            " extracting: CamVid/val_labels/0016E5_08073.png  \n",
            " extracting: CamVid/val_labels/0016E5_08075.png  \n",
            " extracting: CamVid/val_labels/0016E5_08077.png  \n",
            " extracting: CamVid/val_labels/0016E5_08079.png  \n",
            " extracting: CamVid/val_labels/0016E5_08081.png  \n",
            " extracting: CamVid/val_labels/0016E5_08083.png  \n",
            " extracting: CamVid/val_labels/0016E5_08085.png  \n",
            " extracting: CamVid/val_labels/0016E5_08087.png  \n",
            " extracting: CamVid/val_labels/0016E5_08089.png  \n",
            " extracting: CamVid/val_labels/0016E5_08091.png  \n",
            " extracting: CamVid/val_labels/0016E5_08093.png  \n",
            " extracting: CamVid/val_labels/0016E5_08095.png  \n",
            "  inflating: CamVid/val_labels/0016E5_08097.png  \n",
            "  inflating: CamVid/val_labels/0016E5_08099.png  \n",
            "  inflating: CamVid/val_labels/0016E5_08101.png  \n",
            "  inflating: CamVid/val_labels/0016E5_08103.png  \n",
            "  inflating: CamVid/val_labels/0016E5_08105.png  \n",
            "  inflating: CamVid/val_labels/0016E5_08107.png  \n",
            "  inflating: CamVid/val_labels/0016E5_08109.png  \n",
            "  inflating: CamVid/val_labels/0016E5_08111.png  \n",
            "  inflating: CamVid/val_labels/0016E5_08113.png  \n",
            "  inflating: CamVid/val_labels/0016E5_08115.png  \n",
            "  inflating: CamVid/val_labels/0016E5_08117.png  \n",
            "  inflating: CamVid/val_labels/0016E5_08119.png  \n",
            "  inflating: CamVid/val_labels/0016E5_08121.png  \n",
            "  inflating: CamVid/val_labels/0016E5_08123.png  \n",
            " extracting: CamVid/val_labels/0016E5_08125.png  \n",
            "  inflating: CamVid/val_labels/0016E5_08127.png  \n",
            " extracting: CamVid/val_labels/0016E5_08129.png  \n",
            " extracting: CamVid/val_labels/0016E5_08131.png  \n",
            " extracting: CamVid/val_labels/0016E5_08133.png  \n",
            " extracting: CamVid/val_labels/0016E5_08135.png  \n",
            "  inflating: CamVid/val_labels/0016E5_08137.png  \n",
            "  inflating: CamVid/val_labels/0016E5_08139.png  \n",
            "  inflating: CamVid/val_labels/0016E5_08141.png  \n",
            "  inflating: CamVid/val_labels/0016E5_08143.png  \n",
            "  inflating: CamVid/val_labels/0016E5_08145.png  \n",
            "  inflating: CamVid/val_labels/0016E5_08147.png  \n",
            "  inflating: CamVid/val_labels/0016E5_08149.png  \n",
            "  inflating: CamVid/val_labels/0016E5_08151.png  \n",
            "  inflating: CamVid/val_labels/0016E5_08153.png  \n",
            "  inflating: CamVid/val_labels/0016E5_08155.png  \n",
            "  inflating: CamVid/val_labels/0016E5_08157.png  \n",
            "  inflating: CamVid/val_labels/0016E5_08159.png  \n"
          ]
        }
      ],
      "source": [
        "from google.colab import drive\n",
        "drive.mount('/content/drive')\n",
        "!unzip drive/My\\ Drive/CamVid.zip"
      ]
    },
    {
      "cell_type": "code",
      "source": [
        "!pip install -U segmentation-models-pytorch"
      ],
      "metadata": {
        "colab": {
          "base_uri": "https://localhost:8080/"
        },
        "id": "fZgg1MCm9sIC",
        "outputId": "84c3e5fc-345d-4452-fdc3-8e919ae18624"
      },
      "execution_count": null,
      "outputs": [
        {
          "output_type": "stream",
          "name": "stdout",
          "text": [
            "Looking in indexes: https://pypi.org/simple, https://us-python.pkg.dev/colab-wheels/public/simple/\n",
            "Requirement already satisfied: segmentation-models-pytorch in /usr/local/lib/python3.7/dist-packages (0.3.0)\n",
            "Requirement already satisfied: pretrainedmodels==0.7.4 in /usr/local/lib/python3.7/dist-packages (from segmentation-models-pytorch) (0.7.4)\n",
            "Requirement already satisfied: torchvision>=0.5.0 in /usr/local/lib/python3.7/dist-packages (from segmentation-models-pytorch) (0.13.1+cu113)\n",
            "Requirement already satisfied: timm==0.4.12 in /usr/local/lib/python3.7/dist-packages (from segmentation-models-pytorch) (0.4.12)\n",
            "Requirement already satisfied: pillow in /usr/local/lib/python3.7/dist-packages (from segmentation-models-pytorch) (7.1.2)\n",
            "Requirement already satisfied: tqdm in /usr/local/lib/python3.7/dist-packages (from segmentation-models-pytorch) (4.64.0)\n",
            "Requirement already satisfied: efficientnet-pytorch==0.7.1 in /usr/local/lib/python3.7/dist-packages (from segmentation-models-pytorch) (0.7.1)\n",
            "Requirement already satisfied: torch in /usr/local/lib/python3.7/dist-packages (from efficientnet-pytorch==0.7.1->segmentation-models-pytorch) (1.12.1+cu113)\n",
            "Requirement already satisfied: munch in /usr/local/lib/python3.7/dist-packages (from pretrainedmodels==0.7.4->segmentation-models-pytorch) (2.5.0)\n",
            "Requirement already satisfied: typing-extensions in /usr/local/lib/python3.7/dist-packages (from torch->efficientnet-pytorch==0.7.1->segmentation-models-pytorch) (4.1.1)\n",
            "Requirement already satisfied: numpy in /usr/local/lib/python3.7/dist-packages (from torchvision>=0.5.0->segmentation-models-pytorch) (1.21.6)\n",
            "Requirement already satisfied: requests in /usr/local/lib/python3.7/dist-packages (from torchvision>=0.5.0->segmentation-models-pytorch) (2.23.0)\n",
            "Requirement already satisfied: six in /usr/local/lib/python3.7/dist-packages (from munch->pretrainedmodels==0.7.4->segmentation-models-pytorch) (1.15.0)\n",
            "Requirement already satisfied: chardet<4,>=3.0.2 in /usr/local/lib/python3.7/dist-packages (from requests->torchvision>=0.5.0->segmentation-models-pytorch) (3.0.4)\n",
            "Requirement already satisfied: urllib3!=1.25.0,!=1.25.1,<1.26,>=1.21.1 in /usr/local/lib/python3.7/dist-packages (from requests->torchvision>=0.5.0->segmentation-models-pytorch) (1.24.3)\n",
            "Requirement already satisfied: idna<3,>=2.5 in /usr/local/lib/python3.7/dist-packages (from requests->torchvision>=0.5.0->segmentation-models-pytorch) (2.10)\n",
            "Requirement already satisfied: certifi>=2017.4.17 in /usr/local/lib/python3.7/dist-packages (from requests->torchvision>=0.5.0->segmentation-models-pytorch) (2022.6.15)\n"
          ]
        }
      ]
    },
    {
      "cell_type": "code",
      "source": [
        "pip install pytorch-model-summary"
      ],
      "metadata": {
        "colab": {
          "base_uri": "https://localhost:8080/"
        },
        "id": "wD1JLtUhy5rU",
        "outputId": "9e06154e-b50a-422b-bc89-198de73a81ad"
      },
      "execution_count": null,
      "outputs": [
        {
          "output_type": "stream",
          "name": "stdout",
          "text": [
            "Looking in indexes: https://pypi.org/simple, https://us-python.pkg.dev/colab-wheels/public/simple/\n",
            "Requirement already satisfied: pytorch-model-summary in /usr/local/lib/python3.7/dist-packages (0.1.2)\n",
            "Requirement already satisfied: torch in /usr/local/lib/python3.7/dist-packages (from pytorch-model-summary) (1.12.1+cu113)\n",
            "Requirement already satisfied: tqdm in /usr/local/lib/python3.7/dist-packages (from pytorch-model-summary) (4.64.0)\n",
            "Requirement already satisfied: numpy in /usr/local/lib/python3.7/dist-packages (from pytorch-model-summary) (1.21.6)\n",
            "Requirement already satisfied: typing-extensions in /usr/local/lib/python3.7/dist-packages (from torch->pytorch-model-summary) (4.1.1)\n"
          ]
        }
      ]
    },
    {
      "cell_type": "code",
      "source": [
        "%matplotlib inline\n",
        "\n",
        "import os\n",
        "import torch\n",
        "import numpy as np\n",
        "import matplotlib.pyplot as plt\n",
        "import segmentation_models_pytorch as smp\n",
        "import tensorflow as tf\n",
        "\n",
        "from numpy import asarray\n",
        "\n",
        "from PIL import Image\n",
        "from random import random\n",
        "\n",
        "from torch.utils.data import Dataset, DataLoader\n",
        "\n",
        "from torchvision.transforms import functional as F\n",
        "from torchvision.transforms import Compose, ToTensor, Resize, Normalize\n",
        "\n",
        "from torch.nn import Sequential, Module\n",
        "from torch.nn import Conv2d, ReLU, Sigmoid, BatchNorm2d, Dropout\n",
        "from torch.nn import ConvTranspose2d, MaxPool2d, MaxUnpool2d\n",
        "\n",
        "from pytorch_model_summary import summary\n",
        "\n",
        "from torchvision.models.segmentation import deeplabv3_resnet101\n",
        "from torchvision.models.segmentation.deeplabv3 import DeepLabHead\n",
        "\n",
        "from segmentation_models_pytorch import utils"
      ],
      "metadata": {
        "id": "0H9659Au8l2L"
      },
      "execution_count": null,
      "outputs": []
    },
    {
      "cell_type": "code",
      "execution_count": null,
      "metadata": {
        "id": "VuqzjMK1xeF7"
      },
      "outputs": [],
      "source": [
        "x_train_dir = '/content/CamVid/train'\n",
        "y_train_dir = '/content/CamVid/train_labels'\n",
        "\n",
        "x_val_dir = '/content/CamVid/val'\n",
        "y_val_dir = '/content/CamVid/val_labels'\n",
        "\n",
        "x_test_dir = '/content/CamVid/test'\n",
        "y_test_dir = '/content/CamVid/test_labels'"
      ]
    },
    {
      "cell_type": "markdown",
      "source": [
        "# 1. CNN model (Baseline)"
      ],
      "metadata": {
        "id": "xZ-WYe0Wb8zt"
      }
    },
    {
      "cell_type": "markdown",
      "metadata": {
        "id": "hT-12epk5uEb"
      },
      "source": [
        "### 1.1 Define custom dataset"
      ]
    },
    {
      "cell_type": "code",
      "execution_count": null,
      "metadata": {
        "id": "_X3f4LVV5uEc"
      },
      "outputs": [],
      "source": [
        "# define custom dataset class\n",
        "class CamVidDataset(Dataset):\n",
        "    def __init__(self, images_dir, masks_dir=None, transforms=None, training_type=None):\n",
        "        # get all image names\n",
        "        self.image_names = os.listdir(images_dir)\n",
        "\n",
        "        # set training type, transforms\n",
        "        self.training_type = training_type\n",
        "        self.transforms = transforms\n",
        "\n",
        "        # get image and target paths\n",
        "        self.images_paths = []\n",
        "        self.masks_paths = []\n",
        "        for image_name in self.image_names:\n",
        "            self.images_paths.append(os.path.join(images_dir, image_name))\n",
        "            if self.training_type==\"train\" or self.training_type==\"val\":\n",
        "                self.masks_paths.append(os.path.join(masks_dir, image_name.split('.')[0] + '.png'))\n",
        "    \n",
        "    def __getitem__(self, i):\n",
        "        \n",
        "        if self.training_type==\"train\" or self.training_type==\"val\":\n",
        "            # read data\n",
        "            image = Image.open(self.images_paths[i])\n",
        "            mask = Image.open(self.masks_paths[i])\n",
        "\n",
        "            # preprocess mask\n",
        "            mask = np.array(mask)\n",
        "            mask = (mask == 3)\n",
        "            mask = Image.fromarray(mask)\n",
        "\n",
        "            # apply transforms\n",
        "            image = self.transforms(image)\n",
        "            mask = self.transforms(mask)\n",
        "            \n",
        "            return image, mask\n",
        "        \n",
        "        else:\n",
        "            # read data\n",
        "            image = Image.open(self.images_paths[i])\n",
        "            \n",
        "            # apply transforms\n",
        "            image = self.transforms(image)\n",
        "            \n",
        "            return image\n",
        "        \n",
        "    def __len__(self):\n",
        "        return len(self.image_names)"
      ]
    },
    {
      "cell_type": "markdown",
      "metadata": {
        "id": "TV04qkyN5uEg"
      },
      "source": [
        "### 1.2 Data Exploration"
      ]
    },
    {
      "cell_type": "code",
      "execution_count": null,
      "metadata": {
        "id": "_rvlBOmx54vZ"
      },
      "outputs": [],
      "source": [
        "# Resizing images to 224 x 224\n",
        "\n",
        "train_transforms = Compose([\n",
        "    Resize((224, 224)),\n",
        "    ToTensor()\n",
        "])"
      ]
    },
    {
      "cell_type": "code",
      "execution_count": null,
      "metadata": {
        "id": "UXClhVpN54vZ"
      },
      "outputs": [],
      "source": [
        "dataset = CamVidDataset(x_train_dir, y_train_dir, transforms=train_transforms, training_type='train')\n",
        "\n",
        "image, gt_mask = dataset[0]"
      ]
    },
    {
      "cell_type": "code",
      "execution_count": null,
      "metadata": {
        "colab": {
          "base_uri": "https://localhost:8080/"
        },
        "outputId": "813fe688-fea7-40a8-a241-48a346f2560d",
        "id": "vla1x_V954va"
      },
      "outputs": [
        {
          "output_type": "execute_result",
          "data": {
            "text/plain": [
              "(torch.Size([3, 224, 224]), torch.Size([1, 224, 224]))"
            ]
          },
          "metadata": {},
          "execution_count": 386
        }
      ],
      "source": [
        "image.shape, gt_mask.shape"
      ]
    },
    {
      "cell_type": "code",
      "execution_count": null,
      "metadata": {
        "colab": {
          "base_uri": "https://localhost:8080/"
        },
        "outputId": "cf5c63c8-c848-4611-90bc-15a025df9ec1",
        "id": "BTY2E8c154va"
      },
      "outputs": [
        {
          "output_type": "execute_result",
          "data": {
            "text/plain": [
              "<matplotlib.image.AxesImage at 0x7fc9d6d4f350>"
            ]
          },
          "metadata": {},
          "execution_count": 387
        },
        {
          "output_type": "display_data",
          "data": {
            "text/plain": [
              "<Figure size 432x288 with 1 Axes>"
            ],
            "image/png": "[encoded data removed]"
          },
          "metadata": {
            "needs_background": "light"
          }
        }
      ],
      "source": [
        "plt.imshow(np.transpose(image, (1, 2, 0)))"
      ]
    },
    {
      "cell_type": "code",
      "execution_count": null,
      "metadata": {
        "colab": {
          "base_uri": "https://localhost:8080/"
        },
        "outputId": "5f2e64e9-7a17-4077-f5e5-9964d783d744",
        "id": "wyLEP6K554va"
      },
      "outputs": [
        {
          "output_type": "execute_result",
          "data": {
            "text/plain": [
              "<matplotlib.image.AxesImage at 0x7fc9d68b1a50>"
            ]
          },
          "metadata": {},
          "execution_count": 388
        },
        {
          "output_type": "display_data",
          "data": {
            "text/plain": [
              "<Figure size 432x288 with 1 Axes>"
            ],
            "image/png": "[encoded data removed]"
          },
          "metadata": {
            "needs_background": "light"
          }
        }
      ],
      "source": [
        "# true mask\n",
        "plt.imshow(gt_mask.squeeze(), cmap='gray')"
      ]
    },
    {
      "cell_type": "code",
      "execution_count": null,
      "metadata": {
        "id": "JaeEgaHn54va"
      },
      "outputs": [],
      "source": [
        "# create transform\n",
        "train_transforms = Compose([\n",
        "    Resize((224, 224)),\n",
        "    ToTensor()\n",
        "])\n",
        "# create instance of custom dataset\n",
        "train_dataset = CamVidDataset(\n",
        "    x_train_dir, \n",
        "    y_train_dir, \n",
        "    transforms=train_transforms,\n",
        "    training_type='train'\n",
        ")\n",
        "# create dataloader\n",
        "train_loader = DataLoader(\n",
        "    train_dataset, \n",
        "    batch_size=16,\n",
        "    num_workers=2\n",
        ")"
      ]
    },
    {
      "cell_type": "code",
      "execution_count": null,
      "metadata": {
        "id": "q8BbslzP54va"
      },
      "outputs": [],
      "source": [
        "for batch_x, batch_y in train_loader:\n",
        "    break"
      ]
    },
    {
      "cell_type": "code",
      "execution_count": null,
      "metadata": {
        "colab": {
          "base_uri": "https://localhost:8080/"
        },
        "outputId": "ad3cd4f3-dbcd-4094-bffe-c94a36f7eefc",
        "id": "6TrPX7Ep54va"
      },
      "outputs": [
        {
          "output_type": "execute_result",
          "data": {
            "text/plain": [
              "(torch.Size([16, 3, 224, 224]), torch.Size([16, 1, 224, 224]))"
            ]
          },
          "metadata": {},
          "execution_count": 391
        }
      ],
      "source": [
        "batch_x.shape, batch_y.shape"
      ]
    },
    {
      "cell_type": "markdown",
      "source": [
        "### 1.3 Define Model Architecture"
      ],
      "metadata": {
        "id": "gC5G3Sa9xmdu"
      }
    },
    {
      "cell_type": "code",
      "source": [
        "# define model architecture\n",
        "\n",
        "# Input\n",
        "\n",
        "# Encoder\n",
        "## Conv(num_filters=64, filter_size=3, stride=2, padding=1, activation='relu')\n",
        "## MaxPool(size=2)\n",
        "## Conv(num_filters=64, filter_size=3, stride=2, padding=1, activation='relu')\n",
        "## MaxPool(size=2)\n",
        "\n",
        "# Decoder\n",
        "## MaxUnpool(size=2)\n",
        "## TransposeConv(num_filters=64, filter_size=3, stride=2, padding=1, activation='relu')\n",
        "## MaxUnpool(size=2)\n",
        "## TransposeConv(num_filters=64, filter_size=3, stride=2, padding=1, activation='relu')\n",
        "\n",
        "# Output\n",
        "## Conv(num_filters=1, filter_size=3, stride=1, padding=1, activation='sigmoid')\n",
        "\n",
        "\n",
        "class EncoderDecoder(Module):\n",
        "    def __init__(self):\n",
        "        super().__init__()\n",
        "\n",
        "        # define encoder\n",
        "        self.encoder_block1 = Sequential(\n",
        "            Conv2d(3, 64, 3, stride=2, padding=1), \n",
        "            ReLU()\n",
        "        )\n",
        "\n",
        "        self.pool1 = MaxPool2d(2, return_indices=True)\n",
        "\n",
        "        self.encoder_block2 = Sequential(\n",
        "            Conv2d(64, 128, 3, stride=2, padding=1), \n",
        "            ReLU()\n",
        "        )\n",
        "\n",
        "        self.pool2 = MaxPool2d(2, return_indices=True)\n",
        "\n",
        "        # define decoder        \n",
        "        self.unpool2 = MaxUnpool2d(2)\n",
        "\n",
        "        self.decoder_upsample2 = ConvTranspose2d(128, 64, 3, stride=2, padding=1)\n",
        "        self.decoder_non_linearity2 = ReLU()\n",
        "\n",
        "        self.unpool1 = MaxUnpool2d(2)\n",
        "\n",
        "        self.decoder_upsample1 = ConvTranspose2d(64, 64, 3, stride=2, padding=1)\n",
        "        self.decoder_non_linearity1 = ReLU()\n",
        "\n",
        "        # define output\n",
        "        self.output_layer = Sequential( \n",
        "            Conv2d(64, 1, 3, stride=1, padding=1),\n",
        "            Sigmoid()\n",
        "        )\n",
        "\n",
        "    def forward(self, x):\n",
        "        # get input shape for encoder block 1\n",
        "        size_input_encoder_block1 = x.shape\n",
        "        x = self.encoder_block1(x)\n",
        "        # get pooling indices of pool 1\n",
        "        x, indices_pool1 = self.pool1(x)\n",
        "\n",
        "        # get input shape for encoder block 2\n",
        "        size_input_encoder_block2 = x.shape\n",
        "        x = self.encoder_block2(x)\n",
        "        # get pooling indices of pool 2\n",
        "        x, indices_pool2 = self.pool2(x)\n",
        "\n",
        "        # use pooling indices of pool 2\n",
        "        x = self.unpool2(x, indices_pool2)\n",
        "        # use input shape of encoder block 2\n",
        "        x = self.decoder_upsample2(x, output_size=size_input_encoder_block2)\n",
        "        x = self.decoder_non_linearity2(x)\n",
        "\n",
        "        # use pooling indices of pool 1\n",
        "        x = self.unpool1(x, indices_pool1)\n",
        "        # use input shape of encoder block 1\n",
        "        x = self.decoder_upsample1(x, output_size=size_input_encoder_block1)\n",
        "        x = self.decoder_non_linearity1(x)\n",
        "\n",
        "        x = self.output_layer(x)\n",
        "        return x"
      ],
      "metadata": {
        "id": "zP3ZnUktxu-f"
      },
      "execution_count": null,
      "outputs": []
    },
    {
      "cell_type": "code",
      "source": [
        "# define model\n",
        "model = EncoderDecoder()"
      ],
      "metadata": {
        "id": "aAQUXml8xx8y"
      },
      "execution_count": null,
      "outputs": []
    },
    {
      "cell_type": "code",
      "source": [
        "# print model\n",
        "model"
      ],
      "metadata": {
        "colab": {
          "base_uri": "https://localhost:8080/"
        },
        "id": "P1pfJdaPxyaF",
        "outputId": "2cab921c-61b3-467a-d318-45db48d39d44"
      },
      "execution_count": null,
      "outputs": [
        {
          "output_type": "execute_result",
          "data": {
            "text/plain": [
              "EncoderDecoder(\n",
              "  (encoder_block1): Sequential(\n",
              "    (0): Conv2d(3, 64, kernel_size=(3, 3), stride=(2, 2), padding=(1, 1))\n",
              "    (1): ReLU()\n",
              "  )\n",
              "  (pool1): MaxPool2d(kernel_size=2, stride=2, padding=0, dilation=1, ceil_mode=False)\n",
              "  (encoder_block2): Sequential(\n",
              "    (0): Conv2d(64, 128, kernel_size=(3, 3), stride=(2, 2), padding=(1, 1))\n",
              "    (1): ReLU()\n",
              "  )\n",
              "  (pool2): MaxPool2d(kernel_size=2, stride=2, padding=0, dilation=1, ceil_mode=False)\n",
              "  (unpool2): MaxUnpool2d(kernel_size=(2, 2), stride=(2, 2), padding=(0, 0))\n",
              "  (decoder_upsample2): ConvTranspose2d(128, 64, kernel_size=(3, 3), stride=(2, 2), padding=(1, 1))\n",
              "  (decoder_non_linearity2): ReLU()\n",
              "  (unpool1): MaxUnpool2d(kernel_size=(2, 2), stride=(2, 2), padding=(0, 0))\n",
              "  (decoder_upsample1): ConvTranspose2d(64, 64, kernel_size=(3, 3), stride=(2, 2), padding=(1, 1))\n",
              "  (decoder_non_linearity1): ReLU()\n",
              "  (output_layer): Sequential(\n",
              "    (0): Conv2d(64, 1, kernel_size=(3, 3), stride=(1, 1), padding=(1, 1))\n",
              "    (1): Sigmoid()\n",
              "  )\n",
              ")"
            ]
          },
          "metadata": {},
          "execution_count": 394
        }
      ]
    },
    {
      "cell_type": "code",
      "source": [
        "# check for one iteration of loop\n",
        "for batch_x, batch_y in train_loader:\n",
        "    break"
      ],
      "metadata": {
        "id": "KSvJxV9Nxyy_"
      },
      "execution_count": null,
      "outputs": []
    },
    {
      "cell_type": "code",
      "source": [
        "# print model summary\n",
        "print(summary(model, batch_x[1].unsqueeze(dim=0)))"
      ],
      "metadata": {
        "colab": {
          "base_uri": "https://localhost:8080/"
        },
        "id": "h9CAuUAyxzFj",
        "outputId": "1c1a658f-9801-45e7-a1ec-267b68ce474d"
      },
      "execution_count": null,
      "outputs": [
        {
          "output_type": "stream",
          "name": "stdout",
          "text": [
            "---------------------------------------------------------------------------------------------\n",
            "         Layer (type)                           Output Shape         Param #     Tr. Param #\n",
            "=============================================================================================\n",
            "             Conv2d-1                      [1, 64, 112, 112]           1,792           1,792\n",
            "               ReLU-2                      [1, 64, 112, 112]               0               0\n",
            "          MaxPool2d-3       [1, 64, 56, 56], [1, 64, 56, 56]               0               0\n",
            "             Conv2d-4                       [1, 128, 28, 28]          73,856          73,856\n",
            "               ReLU-5                       [1, 128, 28, 28]               0               0\n",
            "          MaxPool2d-6     [1, 128, 14, 14], [1, 128, 14, 14]               0               0\n",
            "        MaxUnpool2d-7                       [1, 128, 28, 28]               0               0\n",
            "    ConvTranspose2d-8                        [1, 64, 56, 56]          73,792          73,792\n",
            "               ReLU-9                        [1, 64, 56, 56]               0               0\n",
            "       MaxUnpool2d-10                      [1, 64, 112, 112]               0               0\n",
            "   ConvTranspose2d-11                      [1, 64, 224, 224]          36,928          36,928\n",
            "              ReLU-12                      [1, 64, 224, 224]               0               0\n",
            "            Conv2d-13                       [1, 1, 224, 224]             577             577\n",
            "           Sigmoid-14                       [1, 1, 224, 224]               0               0\n",
            "=============================================================================================\n",
            "Total params: 186,945\n",
            "Trainable params: 186,945\n",
            "Non-trainable params: 0\n",
            "---------------------------------------------------------------------------------------------\n"
          ]
        }
      ]
    },
    {
      "cell_type": "code",
      "source": [
        "# check model on one image\n",
        "output = model(batch_x[1].view(1, 3, 224, 224)).detach().numpy()"
      ],
      "metadata": {
        "id": "cjMcKprTyHc6"
      },
      "execution_count": null,
      "outputs": []
    },
    {
      "cell_type": "code",
      "source": [
        "# print output\n",
        "plt.imshow(output.squeeze(), cmap='gray')"
      ],
      "metadata": {
        "colab": {
          "base_uri": "https://localhost:8080/"
        },
        "id": "zTwj610fyII5",
        "outputId": "23a41155-3701-47d7-c36f-610beacb9f62"
      },
      "execution_count": null,
      "outputs": [
        {
          "output_type": "execute_result",
          "data": {
            "text/plain": [
              "<matplotlib.image.AxesImage at 0x7fc9d67fa350>"
            ]
          },
          "metadata": {},
          "execution_count": 398
        },
        {
          "output_type": "display_data",
          "data": {
            "text/plain": [
              "<Figure size 432x288 with 1 Axes>"
            ],
            "image/png": "[encoded data removed]"
          },
          "metadata": {
            "needs_background": "light"
          }
        }
      ]
    },
    {
      "cell_type": "markdown",
      "source": [
        "### 1.4 Train the model"
      ],
      "metadata": {
        "id": "TZPqq49Nz0kQ"
      }
    },
    {
      "cell_type": "code",
      "source": [
        "# transfer model to GPU\n",
        "model = model.to(\"cuda\")"
      ],
      "metadata": {
        "id": "FU-1f2YAyJKq"
      },
      "execution_count": null,
      "outputs": []
    },
    {
      "cell_type": "code",
      "source": [
        "# define optimization and loss function\n",
        "criterion = torch.nn.BCELoss()\n",
        "optimizer = torch.optim.Adam(model.parameters(), lr=0.01)"
      ],
      "metadata": {
        "id": "16f0oSRX0IW-"
      },
      "execution_count": null,
      "outputs": []
    },
    {
      "cell_type": "code",
      "source": [
        "# set model to train\n",
        "model.train()\n",
        "\n",
        "# train model\n",
        "for epoch in range(5):\n",
        "\n",
        "    # initialize variables\n",
        "    epoch_loss = cnt = 0\n",
        "\n",
        "    # loop through the data\n",
        "    for batch_x, batch_y in train_loader:\n",
        "        # get batch images and targets and transfer them to GPU\n",
        "        batch_x = batch_x.to(\"cuda\").float()\n",
        "        batch_y = batch_y.to(\"cuda\").float()\n",
        "\n",
        "        # clear gradients\n",
        "        optimizer.zero_grad()\n",
        "\n",
        "        # pass images to model\n",
        "        outputs = model(batch_x)\n",
        "\n",
        "        # get loss\n",
        "        loss = criterion(outputs, batch_y)\n",
        "\n",
        "        # do a backward pass\n",
        "        loss.backward()\n",
        "\n",
        "        # update gradients\n",
        "        optimizer.step()\n",
        "\n",
        "        # sum loss and get count\n",
        "        epoch_loss += loss.item()\n",
        "        cnt += 1\n",
        "\n",
        "    # take average loss for all batches\n",
        "    epoch_loss /= cnt\n",
        "    \n",
        "    # print loss\n",
        "    print(\"Training loss for epoch {} is {} \".format(epoch + 1, epoch_loss))"
      ],
      "metadata": {
        "colab": {
          "base_uri": "https://localhost:8080/"
        },
        "id": "hMwX8OwQ0Ijg",
        "outputId": "cd864972-71f9-4567-ec94-7f226ce8ed27"
      },
      "execution_count": null,
      "outputs": [
        {
          "output_type": "stream",
          "name": "stdout",
          "text": [
            "Training loss for epoch 1 is 0.6220250829406406 \n",
            "Training loss for epoch 2 is 0.5438981004383253 \n",
            "Training loss for epoch 3 is 0.4688043710978135 \n",
            "Training loss for epoch 4 is 0.3922864509665448 \n",
            "Training loss for epoch 5 is 0.35063339186751324 \n"
          ]
        }
      ]
    },
    {
      "cell_type": "markdown",
      "source": [
        "### 1.5 Testing the model on a single validation image"
      ],
      "metadata": {
        "id": "FjVx8f-B0jlQ"
      }
    },
    {
      "cell_type": "code",
      "execution_count": null,
      "metadata": {
        "id": "4MoBQN5A2_2F"
      },
      "outputs": [],
      "source": [
        "# get sample data\n",
        "image = Image.open('/content/CamVid/val/0016E5_07959.png')\n",
        "gt_mask = Image.open('/content/CamVid/val_labels/0016E5_07959.png')"
      ]
    },
    {
      "cell_type": "code",
      "execution_count": null,
      "metadata": {
        "colab": {
          "base_uri": "https://localhost:8080/"
        },
        "outputId": "0529268c-f38e-42ea-9a35-20affbefeae4",
        "id": "LpUkfV5m2_2K"
      },
      "outputs": [
        {
          "output_type": "execute_result",
          "data": {
            "text/plain": [
              "<matplotlib.image.AxesImage at 0x7fc9d68d6e10>"
            ]
          },
          "metadata": {},
          "execution_count": 403
        },
        {
          "output_type": "display_data",
          "data": {
            "text/plain": [
              "<Figure size 432x288 with 1 Axes>"
            ],
            "image/png": "[encoded data removed]"
          },
          "metadata": {
            "needs_background": "light"
          }
        }
      ],
      "source": [
        "plt.imshow(image)"
      ]
    },
    {
      "cell_type": "code",
      "execution_count": null,
      "metadata": {
        "id": "7h4ksnf-2_2K"
      },
      "outputs": [],
      "source": [
        "# preprocess mask\n",
        "gt_mask = np.array(gt_mask)\n",
        "gt_mask = (gt_mask == 3)\n",
        "gt_mask = Image.fromarray(gt_mask)\n",
        "\n",
        "# apply data pre-processing\n",
        "transform = Compose([\n",
        "            Resize((224, 224)),\n",
        "            ToTensor()\n",
        "            ])\n",
        "        \n",
        "image = transform(image)\n",
        "\n",
        "gt_mask = transform(gt_mask)"
      ]
    },
    {
      "cell_type": "code",
      "execution_count": null,
      "metadata": {
        "id": "qj3_ZRBA2_2K"
      },
      "outputs": [],
      "source": [
        "model.eval()\n",
        "\n",
        "output = model(image.view(1, 3, 224, 224).to(\"cuda\")).cpu().detach().numpy()"
      ]
    },
    {
      "cell_type": "code",
      "execution_count": null,
      "metadata": {
        "colab": {
          "base_uri": "https://localhost:8080/"
        },
        "outputId": "da7fd179-e29b-4952-cb85-909e04c09701",
        "id": "ecKQ3nEG2_2K"
      },
      "outputs": [
        {
          "output_type": "execute_result",
          "data": {
            "text/plain": [
              "<matplotlib.image.AxesImage at 0x7fc9d70112d0>"
            ]
          },
          "metadata": {},
          "execution_count": 406
        },
        {
          "output_type": "display_data",
          "data": {
            "text/plain": [
              "<Figure size 432x288 with 1 Axes>"
            ],
            "image/png": "[encoded data removed]"
          },
          "metadata": {
            "needs_background": "light"
          }
        }
      ],
      "source": [
        "# true mask\n",
        "plt.imshow(gt_mask.squeeze(), cmap='gray')"
      ]
    },
    {
      "cell_type": "code",
      "execution_count": null,
      "metadata": {
        "colab": {
          "base_uri": "https://localhost:8080/"
        },
        "outputId": "e8af214f-0bbc-45e7-af33-06f63ad01df2",
        "id": "XKzJ3G-O2_2K"
      },
      "outputs": [
        {
          "output_type": "execute_result",
          "data": {
            "text/plain": [
              "<matplotlib.image.AxesImage at 0x7fc9d64dae90>"
            ]
          },
          "metadata": {},
          "execution_count": 407
        },
        {
          "output_type": "display_data",
          "data": {
            "text/plain": [
              "<Figure size 432x288 with 1 Axes>"
            ],
            "image/png": "[encoded data removed]"
          },
          "metadata": {
            "needs_background": "light"
          }
        }
      ],
      "source": [
        "# predicted mask\n",
        "plt.imshow((output.squeeze() > 0.5).astype(int), cmap='gray')"
      ]
    },
    {
      "cell_type": "code",
      "execution_count": null,
      "metadata": {
        "colab": {
          "base_uri": "https://localhost:8080/"
        },
        "outputId": "3bafd362-7f79-452f-c1ce-eb06cfb8d02e",
        "id": "XnDB2S_R2_2L"
      },
      "outputs": [
        {
          "output_type": "execute_result",
          "data": {
            "text/plain": [
              "0.5449377228797354"
            ]
          },
          "metadata": {},
          "execution_count": 408
        }
      ],
      "source": [
        "# convert predicted mask to flattened numpy array\n",
        "mask = (output.squeeze() > 0.5).astype(int)\n",
        "pred = mask.ravel().copy()\n",
        "\n",
        "# convert ground truth mask to flattened numpy array\n",
        "gt_mask = gt_mask.cpu().detach().numpy()\n",
        "target = gt_mask.ravel().copy().astype(int)\n",
        "\n",
        "# get class indices for Lane\n",
        "pred_inds = pred == 1\n",
        "target_inds = target == 1\n",
        "\n",
        "# calculate intersection\n",
        "intersection = pred_inds[target_inds].sum()\n",
        "\n",
        "# calculate union\n",
        "union = pred_inds.sum() + target_inds.sum() - intersection\n",
        "\n",
        "# get IoU score\n",
        "iou = (float(intersection) / float(max(union, 1)))\n",
        "iou"
      ]
    },
    {
      "cell_type": "markdown",
      "source": [
        "### 1.6 Mean IOU Score for validation set"
      ],
      "metadata": {
        "id": "uIJfmfuIfxiN"
      }
    },
    {
      "cell_type": "code",
      "source": [
        "valid_transforms = Compose([\n",
        "    Resize((224, 224)), \n",
        "    ToTensor()\n",
        "])\n",
        "\n",
        "valid_dataset = CamVidDataset(\n",
        "    x_val_dir, \n",
        "    transforms=valid_transforms,\n",
        "    training_type='valid'\n",
        ")"
      ],
      "metadata": {
        "id": "2JUsW-G_fpRB"
      },
      "execution_count": null,
      "outputs": []
    },
    {
      "cell_type": "code",
      "source": [
        "# Obtaining all predicted validation masks\n",
        "valid_masks = []\n",
        "model.eval()\n",
        "with torch.no_grad():\n",
        "    for valid_image in valid_dataset:\n",
        "        mask = model(valid_image.unsqueeze(0).to('cuda')).cpu().detach().numpy()\n",
        "        valid_masks.append(mask)\n",
        "\n",
        "valid_masks = (np.concatenate((valid_masks), axis=0) > 0.5).astype(int)"
      ],
      "metadata": {
        "id": "R-RppuvPgUNh"
      },
      "execution_count": null,
      "outputs": []
    },
    {
      "cell_type": "code",
      "source": [
        "# Obtaining true validation masks\n",
        "\n",
        "image_names = os.listdir(y_val_dir)\n",
        "true_masks = []\n",
        "\n",
        "for image_name in image_names:\n",
        "  mask_path = os.path.join(y_val_dir, image_name)\n",
        "  img = Image.open(mask_path)\n",
        "  img = img.resize((224, 224))\n",
        "  a = asarray(img)\n",
        "  b = (a == 3)\n",
        "  c = 1*b\n",
        "  true_masks.append(c)"
      ],
      "metadata": {
        "id": "G6BWGb2wgUDm"
      },
      "execution_count": null,
      "outputs": []
    },
    {
      "cell_type": "code",
      "source": [
        "T = []\n",
        "\n",
        "for i in range(len(valid_dataset)):\n",
        "  p = valid_masks[i].flatten()\n",
        "  q = true_masks[i].flatten()\n",
        "  m = tf.keras.metrics.MeanIoU(num_classes=2)\n",
        "  m.update_state(p, q)\n",
        "  T.append(m.result().numpy())\n",
        "\n",
        "np.mean(T)"
      ],
      "metadata": {
        "colab": {
          "base_uri": "https://localhost:8080/"
        },
        "id": "bWv8OEPfgT5u",
        "outputId": "8af5db34-e7a5-4d04-ed3e-f7a2aec553c8"
      },
      "execution_count": null,
      "outputs": [
        {
          "output_type": "execute_result",
          "data": {
            "text/plain": [
              "0.66229904"
            ]
          },
          "metadata": {},
          "execution_count": 412
        }
      ]
    },
    {
      "cell_type": "markdown",
      "source": [
        "# 2. DeepLabv3"
      ],
      "metadata": {
        "id": "WHK2E9ADUAhh"
      }
    },
    {
      "cell_type": "markdown",
      "metadata": {
        "id": "9UwCbBrOW-zM"
      },
      "source": [
        "### 2.1 Define custom dataset"
      ]
    },
    {
      "cell_type": "code",
      "execution_count": null,
      "metadata": {
        "id": "5l96A4N8xjIi"
      },
      "outputs": [],
      "source": [
        "# define custom dataset class\n",
        "class CamVidDataset(Dataset):\n",
        "    def __init__(self, images_dir, masks_dir=None, transforms=None, training_type=None):\n",
        "        # get all image names\n",
        "        self.image_names = os.listdir(images_dir)\n",
        "\n",
        "        # set training type, transforms\n",
        "        self.training_type = training_type\n",
        "        self.transforms = transforms\n",
        "\n",
        "        # get image and target paths\n",
        "        self.images_paths = []\n",
        "        self.masks_paths = []\n",
        "        for image_name in self.image_names:\n",
        "            self.images_paths.append(os.path.join(images_dir, image_name))\n",
        "            if self.training_type==\"train\" or self.training_type==\"val\":\n",
        "                self.masks_paths.append(os.path.join(masks_dir, image_name.split('.')[0] + '.png'))\n",
        "    \n",
        "    def __getitem__(self, i):\n",
        "        \n",
        "        if self.training_type==\"train\" or self.training_type==\"val\":\n",
        "            # read data\n",
        "            image = Image.open(self.images_paths[i])\n",
        "            mask = Image.open(self.masks_paths[i])\n",
        "\n",
        "            # preprocess mask\n",
        "            mask = np.array(mask)\n",
        "            mask = (mask == 3)\n",
        "            mask = Image.fromarray(mask)\n",
        "\n",
        "            # apply transforms\n",
        "            image = self.transforms(image)\n",
        "            mask = self.transforms(mask)\n",
        "            \n",
        "            return image, mask\n",
        "        \n",
        "        else:\n",
        "            # read data\n",
        "            image = Image.open(self.images_paths[i])\n",
        "            \n",
        "            # apply transforms\n",
        "            image = self.transforms(image)\n",
        "            \n",
        "            return image\n",
        "        \n",
        "    def __len__(self):\n",
        "        return len(self.image_names)"
      ]
    },
    {
      "cell_type": "markdown",
      "metadata": {
        "id": "2uT_9a-V9na4"
      },
      "source": [
        "### 2.2 Data Exploration"
      ]
    },
    {
      "cell_type": "code",
      "execution_count": null,
      "metadata": {
        "id": "D6TWe6XK1RFW"
      },
      "outputs": [],
      "source": [
        "# Resizing images to 224 x 224\n",
        "\n",
        "train_transforms = Compose([\n",
        "    Resize((224, 224)),\n",
        "    ToTensor()\n",
        "])"
      ]
    },
    {
      "cell_type": "code",
      "execution_count": null,
      "metadata": {
        "id": "Q8pAjqNQz6_P"
      },
      "outputs": [],
      "source": [
        "dataset = CamVidDataset(x_train_dir, y_train_dir, transforms=train_transforms, training_type='train')\n",
        "\n",
        "image, gt_mask = dataset[0]"
      ]
    },
    {
      "cell_type": "code",
      "execution_count": null,
      "metadata": {
        "colab": {
          "base_uri": "https://localhost:8080/"
        },
        "id": "si4Np83a4zVU",
        "outputId": "f27d3b2d-d699-4e05-d572-16049abba0e5"
      },
      "outputs": [
        {
          "output_type": "execute_result",
          "data": {
            "text/plain": [
              "(torch.Size([3, 224, 224]), torch.Size([1, 224, 224]))"
            ]
          },
          "metadata": {},
          "execution_count": 416
        }
      ],
      "source": [
        "image.shape, gt_mask.shape"
      ]
    },
    {
      "cell_type": "code",
      "execution_count": null,
      "metadata": {
        "colab": {
          "base_uri": "https://localhost:8080/"
        },
        "id": "YucrHLkk4EKx",
        "outputId": "5053d3e9-3036-44ee-de31-5f9241dfb70a"
      },
      "outputs": [
        {
          "output_type": "execute_result",
          "data": {
            "text/plain": [
              "<matplotlib.image.AxesImage at 0x7fc9d6f91bd0>"
            ]
          },
          "metadata": {},
          "execution_count": 417
        },
        {
          "output_type": "display_data",
          "data": {
            "text/plain": [
              "<Figure size 432x288 with 1 Axes>"
            ],
            "image/png": "[encoded data removed]"
          },
          "metadata": {
            "needs_background": "light"
          }
        }
      ],
      "source": [
        "plt.imshow(np.transpose(image, (1, 2, 0)))"
      ]
    },
    {
      "cell_type": "code",
      "execution_count": null,
      "metadata": {
        "colab": {
          "base_uri": "https://localhost:8080/"
        },
        "id": "eiR8kvuo4w6I",
        "outputId": "38ce83a7-1007-49f2-ae89-5f4f060e3753"
      },
      "outputs": [
        {
          "output_type": "execute_result",
          "data": {
            "text/plain": [
              "<matplotlib.image.AxesImage at 0x7fc9d6d2c950>"
            ]
          },
          "metadata": {},
          "execution_count": 418
        },
        {
          "output_type": "display_data",
          "data": {
            "text/plain": [
              "<Figure size 432x288 with 1 Axes>"
            ],
            "image/png": "[encoded data removed]"
          },
          "metadata": {
            "needs_background": "light"
          }
        }
      ],
      "source": [
        "# true mask\n",
        "plt.imshow(gt_mask.squeeze(), cmap='gray')"
      ]
    },
    {
      "cell_type": "code",
      "execution_count": null,
      "metadata": {
        "id": "HAxrcc_n4ynQ"
      },
      "outputs": [],
      "source": [
        "# create transform\n",
        "train_transforms = Compose([\n",
        "    Resize((224, 224)),\n",
        "    ToTensor()\n",
        "])\n",
        "# create instance of custom dataset\n",
        "train_dataset = CamVidDataset(\n",
        "    x_train_dir, \n",
        "    y_train_dir, \n",
        "    transforms=train_transforms,\n",
        "    training_type='train'\n",
        ")\n",
        "# create dataloader\n",
        "train_loader = DataLoader(\n",
        "    train_dataset, \n",
        "    batch_size=16,\n",
        "    num_workers=2\n",
        ")"
      ]
    },
    {
      "cell_type": "code",
      "execution_count": null,
      "metadata": {
        "id": "7lmhZ219Vo0_"
      },
      "outputs": [],
      "source": [
        "for batch_x, batch_y in train_loader:\n",
        "    break"
      ]
    },
    {
      "cell_type": "code",
      "execution_count": null,
      "metadata": {
        "colab": {
          "base_uri": "https://localhost:8080/"
        },
        "id": "-RpwjBHAVpzm",
        "outputId": "9332bf2d-19c6-44bb-cda4-e741f8397c68"
      },
      "outputs": [
        {
          "output_type": "execute_result",
          "data": {
            "text/plain": [
              "(torch.Size([16, 3, 224, 224]), torch.Size([16, 1, 224, 224]))"
            ]
          },
          "metadata": {},
          "execution_count": 421
        }
      ],
      "source": [
        "batch_x.shape, batch_y.shape"
      ]
    },
    {
      "cell_type": "markdown",
      "metadata": {
        "id": "UKScj9Fv8or0"
      },
      "source": [
        "### 2.3 Define model architecture"
      ]
    },
    {
      "cell_type": "code",
      "execution_count": null,
      "metadata": {
        "id": "UFNcOPT-MART"
      },
      "outputs": [],
      "source": [
        "model = deeplabv3_resnet101(pretrained=True)"
      ]
    },
    {
      "cell_type": "code",
      "execution_count": null,
      "metadata": {
        "id": "CWcnM_NhMbXR"
      },
      "outputs": [],
      "source": [
        "for parameters in model.parameters():\n",
        "    parameters.requires_grad = False"
      ]
    },
    {
      "cell_type": "code",
      "execution_count": null,
      "metadata": {
        "id": "0LrOxelyMbxI"
      },
      "outputs": [],
      "source": [
        "model.classifier = DeepLabHead(in_channels=2048, num_classes=1)"
      ]
    },
    {
      "cell_type": "code",
      "execution_count": null,
      "metadata": {
        "id": "wajJO8PF8osB"
      },
      "outputs": [],
      "source": [
        "# check for one iteration of loop\n",
        "for batch_x, batch_y in train_loader:\n",
        "    break"
      ]
    },
    {
      "cell_type": "code",
      "execution_count": null,
      "metadata": {
        "id": "a6QniNdC8osX"
      },
      "outputs": [],
      "source": [
        "# check model on one image\n",
        "model.eval()\n",
        "output = model(batch_x[1].view(1, 3, 224, 224))['out'].detach().numpy()"
      ]
    },
    {
      "cell_type": "code",
      "execution_count": null,
      "metadata": {
        "colab": {
          "base_uri": "https://localhost:8080/"
        },
        "id": "WWN7I79C8osg",
        "outputId": "09223e10-42c4-4703-dbe7-6c9acf88e3cc"
      },
      "outputs": [
        {
          "output_type": "execute_result",
          "data": {
            "text/plain": [
              "<matplotlib.image.AxesImage at 0x7fc9af49f810>"
            ]
          },
          "metadata": {},
          "execution_count": 427
        },
        {
          "output_type": "display_data",
          "data": {
            "text/plain": [
              "<Figure size 432x288 with 1 Axes>"
            ],
            "image/png": "[encoded data removed]"
          },
          "metadata": {
            "needs_background": "light"
          }
        }
      ],
      "source": [
        "# print output\n",
        "plt.imshow(output.squeeze(), cmap='gray')"
      ]
    },
    {
      "cell_type": "markdown",
      "metadata": {
        "id": "yVncU4Hz8osl"
      },
      "source": [
        "### 2.4 Train the model"
      ]
    },
    {
      "cell_type": "code",
      "execution_count": null,
      "metadata": {
        "id": "jllm4hXZ8oso"
      },
      "outputs": [],
      "source": [
        "# transfer model to GPU\n",
        "model = model.to(\"cuda\")"
      ]
    },
    {
      "cell_type": "code",
      "execution_count": null,
      "metadata": {
        "id": "F51Swi8Y8oss"
      },
      "outputs": [],
      "source": [
        "# define optimization and loss function\n",
        "criterion = torch.nn.BCELoss()\n",
        "optimizer = torch.optim.Adam([parameters for parameters in model.parameters() if parameters.requires_grad], lr=1e-3)"
      ]
    },
    {
      "cell_type": "code",
      "execution_count": null,
      "metadata": {
        "colab": {
          "base_uri": "https://localhost:8080/",
          "height": 270
        },
        "id": "i2nCY1YF8osy",
        "outputId": "35636b29-1eaf-4c56-9c3d-b9be976af321"
      },
      "outputs": [
        {
          "output_type": "error",
          "ename": "RuntimeError",
          "evalue": "ignored",
          "traceback": [
            "\u001b[0;31m---------------------------------------------------------------------------\u001b[0m",
            "\u001b[0;31mRuntimeError\u001b[0m                              Traceback (most recent call last)",
            "\u001b[0;32m<ipython-input-430-1ba4e504bb07>\u001b[0m in \u001b[0;36m<module>\u001b[0;34m\u001b[0m\n\u001b[1;32m     30\u001b[0m \u001b[0;34m\u001b[0m\u001b[0m\n\u001b[1;32m     31\u001b[0m         \u001b[0;31m# sum loss and get count\u001b[0m\u001b[0;34m\u001b[0m\u001b[0;34m\u001b[0m\u001b[0;34m\u001b[0m\u001b[0m\n\u001b[0;32m---> 32\u001b[0;31m         \u001b[0mepoch_loss\u001b[0m \u001b[0;34m+=\u001b[0m \u001b[0mloss\u001b[0m\u001b[0;34m.\u001b[0m\u001b[0mitem\u001b[0m\u001b[0;34m(\u001b[0m\u001b[0;34m)\u001b[0m\u001b[0;34m\u001b[0m\u001b[0;34m\u001b[0m\u001b[0m\n\u001b[0m\u001b[1;32m     33\u001b[0m         \u001b[0mcnt\u001b[0m \u001b[0;34m+=\u001b[0m \u001b[0;36m1\u001b[0m\u001b[0;34m\u001b[0m\u001b[0;34m\u001b[0m\u001b[0m\n\u001b[1;32m     34\u001b[0m \u001b[0;34m\u001b[0m\u001b[0m\n",
            "\u001b[0;31mRuntimeError\u001b[0m: CUDA error: device-side assert triggered\nCUDA kernel errors might be asynchronously reported at some other API call,so the stacktrace below might be incorrect.\nFor debugging consider passing CUDA_LAUNCH_BLOCKING=1."
          ]
        }
      ],
      "source": [
        "# set model to train\n",
        "model.train()\n",
        "\n",
        "# train model\n",
        "for epoch in range(5):\n",
        "\n",
        "    # initialize variables\n",
        "    epoch_loss = cnt = 0\n",
        "\n",
        "    # loop through the data\n",
        "    for batch_x, batch_y in train_loader:\n",
        "        # get batch images and targets and transfer them to GPU\n",
        "        batch_x = batch_x.to(\"cuda\").float()\n",
        "        batch_y = batch_y.to(\"cuda\").float()\n",
        "\n",
        "        # clear gradients\n",
        "        optimizer.zero_grad()\n",
        "\n",
        "        # pass images to model\n",
        "        outputs = model(batch_x)\n",
        "\n",
        "        # get loss\n",
        "        loss = criterion(outputs['out'], batch_y)\n",
        "\n",
        "        # do a backward pass\n",
        "        loss.backward()\n",
        "\n",
        "        # update gradients\n",
        "        optimizer.step()\n",
        "\n",
        "        # sum loss and get count\n",
        "        epoch_loss += loss.item()\n",
        "        cnt += 1\n",
        "\n",
        "    # take average loss for all batches\n",
        "    epoch_loss /= cnt\n",
        "    \n",
        "    # print loss\n",
        "    print(\"Training loss for epoch {} is {} \".format(epoch + 1, epoch_loss))"
      ]
    },
    {
      "cell_type": "markdown",
      "metadata": {
        "id": "XUNBT-uj8os3"
      },
      "source": [
        "### 2.5 Testing model on an image from validation set"
      ]
    },
    {
      "cell_type": "code",
      "execution_count": null,
      "metadata": {
        "id": "vbyeAheW8os7"
      },
      "outputs": [],
      "source": [
        "# get sample data     \n",
        "image = Image.open('/content/CamVid/val/0016E5_07959.png')\n",
        "gt_mask = Image.open('/content/CamVid/val_labels/0016E5_07959.png')"
      ]
    },
    {
      "cell_type": "code",
      "execution_count": null,
      "metadata": {
        "id": "-5qaid0j8otD"
      },
      "outputs": [],
      "source": [
        "plt.imshow(image)"
      ]
    },
    {
      "cell_type": "code",
      "execution_count": null,
      "metadata": {
        "id": "PJVdAi9o8otH"
      },
      "outputs": [],
      "source": [
        "# preprocess mask\n",
        "gt_mask = np.array(gt_mask)\n",
        "gt_mask = (gt_mask == 3)\n",
        "gt_mask = Image.fromarray(gt_mask)\n",
        "\n",
        "# apply data augmentation\n",
        "transform = Compose([\n",
        "            Resize((224, 224)),\n",
        "            ToTensor()\n",
        "            ])\n",
        "        \n",
        "image = transform(image)\n",
        "\n",
        "gt_mask = transform(gt_mask)"
      ]
    },
    {
      "cell_type": "code",
      "execution_count": null,
      "metadata": {
        "id": "XpstdKJm8otL"
      },
      "outputs": [],
      "source": [
        "model.eval()\n",
        "output = model(image.view(1, 3, 224, 224).to(\"cuda\"))['out'].cpu().detach().numpy()"
      ]
    },
    {
      "cell_type": "code",
      "execution_count": null,
      "metadata": {
        "id": "pwvKAn_s8otP"
      },
      "outputs": [],
      "source": [
        "# true mask\n",
        "plt.imshow(gt_mask.squeeze(), cmap='gray')"
      ]
    },
    {
      "cell_type": "code",
      "execution_count": null,
      "metadata": {
        "id": "nqR710wu8otU"
      },
      "outputs": [],
      "source": [
        "# predicted mask\n",
        "plt.imshow((output.squeeze() > 0.5).astype(int), cmap='gray')"
      ]
    },
    {
      "cell_type": "code",
      "execution_count": null,
      "metadata": {
        "id": "L5zAip9J8otZ"
      },
      "outputs": [],
      "source": [
        "# convert predicted mask to flattened numpy array\n",
        "mask = (output.squeeze() > 0.5).astype(int)\n",
        "pred = mask.ravel().copy()\n",
        "\n",
        "# convert ground truth mask to flattened numpy array\n",
        "gt_mask = gt_mask.cpu().detach().numpy()\n",
        "target = gt_mask.ravel().copy().astype(int)\n",
        "\n",
        "# get class indices for Lane\n",
        "pred_inds = pred == 1\n",
        "target_inds = target == 1\n",
        "\n",
        "# calculate intersection\n",
        "intersection = pred_inds[target_inds].sum()\n",
        "\n",
        "# calculate union\n",
        "union = pred_inds.sum() + target_inds.sum() - intersection\n",
        "\n",
        "# get IoU score\n",
        "iou = (float(intersection) / float(max(union, 1)))\n",
        "iou"
      ]
    },
    {
      "cell_type": "markdown",
      "source": [
        "### 2.6 Mean IOU Score for validation set"
      ],
      "metadata": {
        "id": "NXgTzHugh_yg"
      }
    },
    {
      "cell_type": "code",
      "source": [
        "valid_transforms = Compose([\n",
        "    Resize((224, 224)), \n",
        "    ToTensor()\n",
        "])\n",
        "\n",
        "valid_dataset = CamVidDataset(\n",
        "    x_val_dir, \n",
        "    transforms=valid_transforms,\n",
        "    training_type='valid'\n",
        ")"
      ],
      "metadata": {
        "id": "4VCPVWKah_yh"
      },
      "execution_count": null,
      "outputs": []
    },
    {
      "cell_type": "code",
      "source": [
        "# Obtaining all predicted validation masks\n",
        "valid_masks = []\n",
        "model.eval()\n",
        "with torch.no_grad():\n",
        "    for valid_image in valid_dataset:\n",
        "        mask = model(valid_image.unsqueeze(0).to('cuda'))['out'].cpu().detach().numpy()\n",
        "\n",
        "        #mask = model(valid_image.unsqueeze(0).to('cuda')).cpu().detach().numpy()\n",
        "        valid_masks.append(mask)\n",
        "\n",
        "valid_masks = (np.concatenate((valid_masks), axis=0) > 0.5).astype(int)"
      ],
      "metadata": {
        "id": "De82tzboh_yh"
      },
      "execution_count": null,
      "outputs": []
    },
    {
      "cell_type": "code",
      "source": [
        "# Obtaining true validation masks\n",
        "\n",
        "image_names = os.listdir(y_val_dir)\n",
        "true_masks = []\n",
        "\n",
        "for image_name in image_names:\n",
        "  mask_path = os.path.join(y_val_dir, image_name)\n",
        "  img = Image.open(mask_path)\n",
        "  img = img.resize((224, 224))\n",
        "  a = asarray(img)\n",
        "  b = (a == 3)\n",
        "  c = 1*b\n",
        "  true_masks.append(c)"
      ],
      "metadata": {
        "id": "q_PkllmRh_yh"
      },
      "execution_count": null,
      "outputs": []
    },
    {
      "cell_type": "code",
      "source": [
        "T = []\n",
        "\n",
        "for i in range(len(valid_dataset)):\n",
        "  p = valid_masks[i].flatten()\n",
        "  q = true_masks[i].flatten()\n",
        "  m = tf.keras.metrics.MeanIoU(num_classes=2)\n",
        "  m.update_state(p, q)\n",
        "  T.append(m.result().numpy())\n",
        "\n",
        "np.mean(T)"
      ],
      "metadata": {
        "id": "CecdJ7MTh_yh"
      },
      "execution_count": null,
      "outputs": []
    },
    {
      "cell_type": "markdown",
      "source": [
        "# 3. U-Net"
      ],
      "metadata": {
        "id": "CTLZqhx1A_4V"
      }
    },
    {
      "cell_type": "markdown",
      "source": [
        "### 3.1 Define custom dataset"
      ],
      "metadata": {
        "id": "h6F7CB_9UpVE"
      }
    },
    {
      "cell_type": "code",
      "metadata": {
        "id": "lg7St2jZ_PI9"
      },
      "source": [
        "# define custom dataset class (Data augmentation and normalization of images added)\n",
        "\n",
        "class CamVidDataset(Dataset):\n",
        "    def __init__(self, images_dir, masks_dir=None, transforms=None, preprocessing=False, training_type=None):\n",
        "        # get all image names\n",
        "        self.image_names = os.listdir(images_dir)\n",
        "\n",
        "        # set training type, transforms\n",
        "        self.training_type = training_type\n",
        "        self.transforms = transforms\n",
        "        self.preprocessing=preprocessing\n",
        "\n",
        "        # get image and target paths\n",
        "        self.images_paths = []\n",
        "        self.masks_paths = []\n",
        "        for image_name in self.image_names:\n",
        "            self.images_paths.append(os.path.join(images_dir, image_name))\n",
        "            if self.training_type==\"train\" or self.training_type==\"val\":\n",
        "                self.masks_paths.append(os.path.join(masks_dir, image_name.split('.')[0] + '.png'))\n",
        "    \n",
        "    def __getitem__(self, i):\n",
        "        \n",
        "        if self.training_type==\"train\" or self.training_type==\"val\":\n",
        "            # read data\n",
        "            image = Image.open(self.images_paths[i])\n",
        "            mask = Image.open(self.masks_paths[i])\n",
        "\n",
        "            # preprocess mask\n",
        "            mask = np.array(mask)\n",
        "            mask = (mask == 3)\n",
        "            mask = Image.fromarray(mask)\n",
        "\n",
        "            # data augmentation\n",
        "            ## random horizontal flip\n",
        "            if random() < 0.5:\n",
        "                image, mask = F.hflip(image), F.hflip(mask)\n",
        "\n",
        "            ## apply transforms\n",
        "            image = self.transforms(image)\n",
        "            mask = self.transforms(mask)\n",
        "\n",
        "            ## apply preprocessing\n",
        "            if self.preprocessing:\n",
        "                image = Compose([Normalize(mean=[0.485, 0.456, 0.406],        \n",
        "                        std=[0.229, 0.224, 0.225])])(image)\n",
        "            \n",
        "            return image, mask\n",
        "        \n",
        "        else:\n",
        "            # read data\n",
        "            image = Image.open(self.images_paths[i])\n",
        "            \n",
        "            # apply transforms\n",
        "            image = self.transforms(image)\n",
        "\n",
        "            # apply preprocessing\n",
        "            if self.preprocessing:\n",
        "                image = Compose([Normalize(mean=[0.485, 0.456, 0.406],\n",
        "                        std=[0.229, 0.224, 0.225])])(image)  \n",
        "            \n",
        "            return image\n",
        "        \n",
        "    def __len__(self):\n",
        "        return len(self.image_names)"
      ],
      "execution_count": null,
      "outputs": []
    },
    {
      "cell_type": "code",
      "metadata": {
        "id": "bex9R2vM_PJE"
      },
      "source": [
        "# create transform\n",
        "train_transforms = Compose([\n",
        "    Resize((224, 224)),\n",
        "    ToTensor()\n",
        "])\n",
        "# create instance of custom dataset\n",
        "train_dataset = CamVidDataset(\n",
        "    x_train_dir, \n",
        "    y_train_dir, \n",
        "    transforms=train_transforms,\n",
        "    training_type='train'\n",
        ")\n",
        "# create dataloader\n",
        "train_loader = DataLoader(\n",
        "    train_dataset, \n",
        "    batch_size=16,\n",
        "    num_workers=2\n",
        ")"
      ],
      "execution_count": null,
      "outputs": []
    },
    {
      "cell_type": "markdown",
      "metadata": {
        "id": "NKqOXF5U_PJF"
      },
      "source": [
        "### 3.2 Data Exploration"
      ]
    },
    {
      "cell_type": "code",
      "metadata": {
        "id": "7cMX138m_PJF"
      },
      "source": [
        "for batch_x, batch_y in train_loader:\n",
        "    break"
      ],
      "execution_count": null,
      "outputs": []
    },
    {
      "cell_type": "code",
      "metadata": {
        "id": "Z0QJnDUO_PJF"
      },
      "source": [
        "batch_x.shape, batch_y.shape"
      ],
      "execution_count": null,
      "outputs": []
    },
    {
      "cell_type": "code",
      "metadata": {
        "id": "ikVIvGI2_PJF"
      },
      "source": [
        "plt.imshow(np.transpose(batch_x[0], (1, 2, 0)))"
      ],
      "execution_count": null,
      "outputs": []
    },
    {
      "cell_type": "code",
      "metadata": {
        "id": "E-sHXO99_PJG"
      },
      "source": [
        "# True Mask\n",
        "\n",
        "plt.imshow(batch_y[0].squeeze(), cmap='gray')"
      ],
      "execution_count": null,
      "outputs": []
    },
    {
      "cell_type": "code",
      "metadata": {
        "id": "ADNyYNH3nMBv"
      },
      "source": [
        "# create instance of custom dataset\n",
        "train_dataset = CamVidDataset(\n",
        "    x_train_dir, \n",
        "    y_train_dir, \n",
        "    transforms=train_transforms,\n",
        "    preprocessing=True,\n",
        "    training_type='train'\n",
        ")\n",
        "# create dataloader\n",
        "train_loader = DataLoader(\n",
        "    train_dataset, \n",
        "    batch_size=16,\n",
        "    num_workers=2\n",
        ")"
      ],
      "execution_count": null,
      "outputs": []
    },
    {
      "cell_type": "markdown",
      "metadata": {
        "id": "Ryur6Sha_PJG"
      },
      "source": [
        "### 3.3 Define model architecture"
      ]
    },
    {
      "cell_type": "code",
      "metadata": {
        "id": "XyA4lwu6_PJG"
      },
      "source": [
        "# create segmentation model with pretrained encoder\n",
        "model = smp.Unet(\n",
        "    encoder_name='resnet18', \n",
        "    encoder_weights='imagenet', \n",
        "    classes=1, \n",
        "    activation='sigmoid',\n",
        ")"
      ],
      "execution_count": null,
      "outputs": []
    },
    {
      "cell_type": "code",
      "metadata": {
        "id": "H_fQxBaZ_PJH"
      },
      "source": [
        "# print model\n",
        "model"
      ],
      "execution_count": null,
      "outputs": []
    },
    {
      "cell_type": "code",
      "metadata": {
        "id": "zBFUdYU5_PJH"
      },
      "source": [
        "# check for one iteration of loop\n",
        "for batch_x, batch_y in train_loader:\n",
        "    break"
      ],
      "execution_count": null,
      "outputs": []
    },
    {
      "cell_type": "code",
      "metadata": {
        "id": "G0EwcgG3_PJH"
      },
      "source": [
        "# check model on one image\n",
        "model.eval()\n",
        "output = model(batch_x[1].view(1, 3, 224, 224)).detach().numpy()"
      ],
      "execution_count": null,
      "outputs": []
    },
    {
      "cell_type": "code",
      "metadata": {
        "id": "WLJoMvur_PJH"
      },
      "source": [
        "# print output\n",
        "plt.imshow(output.squeeze(), cmap='gray')"
      ],
      "execution_count": null,
      "outputs": []
    },
    {
      "cell_type": "markdown",
      "metadata": {
        "id": "pZDL5mT1_PJH"
      },
      "source": [
        "### 3.4 Train the model"
      ]
    },
    {
      "cell_type": "code",
      "metadata": {
        "id": "sroOp8oq_PJI"
      },
      "source": [
        "# define loss function\n",
        "criterion = smp.utils.losses.BCELoss()\n",
        "\n",
        "# define optimizer\n",
        "optimizer = torch.optim.Adam([parameters for parameters in model.parameters() if parameters.requires_grad], lr=1e-3)\n",
        "\n",
        "# define evaluation metric\n",
        "metrics = [\n",
        "    smp.utils.metrics.IoU(threshold=0.5)\n",
        "]"
      ],
      "execution_count": null,
      "outputs": []
    },
    {
      "cell_type": "code",
      "metadata": {
        "id": "qo7M5_qz_PJI"
      },
      "source": [
        "# define training epoch\n",
        "train_epoch = smp.utils.train.TrainEpoch(\n",
        "    model, \n",
        "    loss=criterion, \n",
        "    metrics=metrics, \n",
        "    optimizer=optimizer,\n",
        "    device='cuda',\n",
        "    verbose=True,\n",
        ")"
      ],
      "execution_count": null,
      "outputs": []
    },
    {
      "cell_type": "code",
      "source": [
        "# Saving best model and Decrease in LR after 10th epoch added for U-Net model\n",
        "max_score = 0\n",
        "\n",
        "for i in range(0, 20):\n",
        "    print('\\nEpoch: {}'.format(i + 1))\n",
        "    train_logs = train_epoch.run(train_loader)\n",
        "    \n",
        "    if max_score < train_logs['iou_score']:\n",
        "        max_score = train_logs['iou_score']\n",
        "        torch.save(model, './best_model.pth')\n",
        "        print('Model saved!')\n",
        "\n",
        "    # decreasing learning rate after 10th epoch\n",
        "    if i+1 == 10:\n",
        "        optimizer.param_groups[0]['lr'] = 1e-5\n",
        "        print('Decrease learning rate to 1e-5')"
      ],
      "metadata": {
        "id": "xA7vV5GP8syz"
      },
      "execution_count": null,
      "outputs": []
    },
    {
      "cell_type": "code",
      "source": [
        "# load best saved checkpoint\n",
        "model = torch.load('./best_model.pth')"
      ],
      "metadata": {
        "id": "StW_Kpgd9FHP"
      },
      "execution_count": null,
      "outputs": []
    },
    {
      "cell_type": "markdown",
      "metadata": {
        "id": "zndGpEu9_PJI"
      },
      "source": [
        "### 3.5 Testing model on an image from validation set"
      ]
    },
    {
      "cell_type": "code",
      "metadata": {
        "id": "DmhCbmV-_PJI"
      },
      "source": [
        "# get sample data\n",
        "image = Image.open('/content/CamVid/val/0016E5_07959.png')\n",
        "gt_mask = Image.open('/content/CamVid/val_labels/0016E5_07959.png')"
      ],
      "execution_count": null,
      "outputs": []
    },
    {
      "cell_type": "code",
      "metadata": {
        "id": "4u6INIj0_PJI"
      },
      "source": [
        "# Original image\n",
        "\n",
        "plt.imshow(image)"
      ],
      "execution_count": null,
      "outputs": []
    },
    {
      "cell_type": "code",
      "metadata": {
        "id": "8nmx2gCr_PJI"
      },
      "source": [
        "# preprocess mask\n",
        "gt_mask = np.array(gt_mask)\n",
        "gt_mask = (gt_mask == 3)\n",
        "gt_mask = Image.fromarray(gt_mask)\n",
        "\n",
        "# apply data pre-processing\n",
        "transform = Compose([\n",
        "            Resize((224, 224)),\n",
        "            ToTensor()\n",
        "            ])\n",
        "        \n",
        "image = transform(image)\n",
        "\n",
        "image = Compose([Normalize(mean=[0.485, 0.456, 0.406],\n",
        "                        std=[0.229, 0.224, 0.225])])(image)\n",
        "\n",
        "gt_mask = transform(gt_mask)"
      ],
      "execution_count": null,
      "outputs": []
    },
    {
      "cell_type": "code",
      "metadata": {
        "id": "0BSt_96E_PJJ"
      },
      "source": [
        "model.eval()\n",
        "output = model(image.view(1, 3, 224, 224).to(\"cuda\")).cpu().detach().numpy()"
      ],
      "execution_count": null,
      "outputs": []
    },
    {
      "cell_type": "code",
      "metadata": {
        "id": "3HZntLYa_PJJ"
      },
      "source": [
        "# true Mask\n",
        "\n",
        "plt.imshow(gt_mask.squeeze(), cmap='gray')"
      ],
      "execution_count": null,
      "outputs": []
    },
    {
      "cell_type": "code",
      "metadata": {
        "id": "zxwIRhhc_PJJ"
      },
      "source": [
        "# predicted Mask\n",
        "\n",
        "plt.imshow((output.squeeze() > 0.5).astype(int), cmap='gray')"
      ],
      "execution_count": null,
      "outputs": []
    },
    {
      "cell_type": "code",
      "metadata": {
        "id": "ifqDyVX1_PJJ"
      },
      "source": [
        "# convert predicted mask to flattened numpy array\n",
        "mask = (output.squeeze() > 0.5).astype(int)\n",
        "pred = mask.ravel().copy()\n",
        "\n",
        "# convert ground truth mask to flattened numpy array\n",
        "gt_mask = gt_mask.cpu().detach().numpy()\n",
        "target = gt_mask.ravel().copy().astype(int)\n",
        "\n",
        "# get class indices for Lane\n",
        "pred_inds = pred == 1\n",
        "target_inds = target == 1\n",
        "\n",
        "# calculate intersection\n",
        "intersection = pred_inds[target_inds].sum()\n",
        "\n",
        "# calculate union\n",
        "union = pred_inds.sum() + target_inds.sum() - intersection\n",
        "\n",
        "# get IoU score\n",
        "iou = (float(intersection) / float(max(union, 1)))\n",
        "iou"
      ],
      "execution_count": null,
      "outputs": []
    },
    {
      "cell_type": "markdown",
      "source": [
        "### 3.6 Mean IOU Score for validation set"
      ],
      "metadata": {
        "id": "ciyVEIXQmLqW"
      }
    },
    {
      "cell_type": "code",
      "source": [
        "valid_transforms = Compose([\n",
        "    Resize((224, 224)), \n",
        "    ToTensor()\n",
        "])\n",
        "\n",
        "valid_dataset = CamVidDataset(\n",
        "    x_val_dir, \n",
        "    transforms=valid_transforms,\n",
        "    preprocessing=True,\n",
        "    training_type='valid'\n",
        ")"
      ],
      "metadata": {
        "id": "8ZCSI5g8mLqb"
      },
      "execution_count": null,
      "outputs": []
    },
    {
      "cell_type": "code",
      "source": [
        "# Obtaining all predicted validation masks\n",
        "valid_masks = []\n",
        "model.eval()\n",
        "with torch.no_grad():\n",
        "    for valid_image in valid_dataset:\n",
        "        mask = model(valid_image.unsqueeze(0).to('cuda')).cpu().detach().numpy()\n",
        "\n",
        "        #mask = model(valid_image.unsqueeze(0).to('cuda')).cpu().detach().numpy()\n",
        "        valid_masks.append(mask)\n",
        "\n",
        "valid_masks = (np.concatenate((valid_masks), axis=0) > 0.5).astype(int)"
      ],
      "metadata": {
        "id": "XfmvGKqMmLqc"
      },
      "execution_count": null,
      "outputs": []
    },
    {
      "cell_type": "code",
      "source": [
        "# Obtaining true validation masks\n",
        "\n",
        "transform = Compose([Resize((224, 224)),ToTensor()])\n",
        "\n",
        "image_names = os.listdir(y_val_dir)\n",
        "true_masks = []\n",
        "\n",
        "for image_name in image_names:\n",
        "  mask_path = os.path.join(y_val_dir, image_name)\n",
        "  img = Image.open(mask_path)\n",
        "  gt_mask = np.array(img)\n",
        "  gt_mask = (gt_mask == 3)\n",
        "  gt_mask = Image.fromarray(gt_mask)\n",
        "  gt_mask = transform(gt_mask)\n",
        "  true_masks.append(gt_mask)"
      ],
      "metadata": {
        "id": "Lvmxz3vCswEo"
      },
      "execution_count": null,
      "outputs": []
    },
    {
      "cell_type": "code",
      "source": [
        "T = []\n",
        "\n",
        "for i in range(len(valid_dataset)):\n",
        "  p = valid_masks[i].flatten()\n",
        "  q = true_masks[i].flatten()\n",
        "  m = tf.keras.metrics.MeanIoU(num_classes=2)\n",
        "  m.update_state(p, q)\n",
        "  T.append(m.result().numpy())\n",
        "\n",
        "np.mean(T)"
      ],
      "metadata": {
        "id": "3MC6Rz3QmLqc"
      },
      "execution_count": null,
      "outputs": []
    },
    {
      "cell_type": "markdown",
      "metadata": {
        "id": "mW08nmTcuN0e"
      },
      "source": [
        "# 4. Inference on test dataset (applying Model 3 - UNet)"
      ]
    },
    {
      "cell_type": "markdown",
      "source": [
        "### 4.1 Obtaining prediction masks for test set"
      ],
      "metadata": {
        "id": "7vdJsnLVUIbm"
      }
    },
    {
      "cell_type": "code",
      "source": [
        "test_transforms = Compose([\n",
        "    Resize((224, 224)), \n",
        "    ToTensor()\n",
        "])\n",
        "\n",
        "test_dataset = CamVidDataset(\n",
        "    x_test_dir, \n",
        "    transforms=test_transforms,\n",
        "    preprocessing=True,\n",
        "    training_type='test'\n",
        ")"
      ],
      "metadata": {
        "id": "1j4DqK6O-SEz"
      },
      "execution_count": null,
      "outputs": []
    },
    {
      "cell_type": "code",
      "metadata": {
        "id": "iy1px11EJggv"
      },
      "source": [
        "# run model for all images in test dataset\n",
        "test_masks = []\n",
        "model.eval()\n",
        "with torch.no_grad():\n",
        "    for test_image in test_dataset:\n",
        "        mask = model(test_image.unsqueeze(0).to('cuda')).cpu().detach().numpy()\n",
        "        test_masks.append(mask)\n",
        "\n",
        "test_masks = (np.concatenate((test_masks), axis=0) > 0.5).astype(int)"
      ],
      "execution_count": null,
      "outputs": []
    },
    {
      "cell_type": "code",
      "metadata": {
        "id": "ZnyIAz1oJgol"
      },
      "source": [
        "# show original image\n",
        "test_image = test_dataset[230]\n",
        "plt.imshow(np.transpose(test_image, (1, 2, 0)))"
      ],
      "execution_count": null,
      "outputs": []
    },
    {
      "cell_type": "code",
      "metadata": {
        "id": "b6Vvxtgiud9o"
      },
      "source": [
        "# show prediction\n",
        "plt.imshow((test_masks[230]).squeeze(), cmap='gray')"
      ],
      "execution_count": null,
      "outputs": []
    },
    {
      "cell_type": "markdown",
      "source": [
        "### 4.2 True mask for test set"
      ],
      "metadata": {
        "id": "TGm4eYWtUR16"
      }
    },
    {
      "cell_type": "code",
      "source": [
        "# Obtaining true validation masks\n",
        "\n",
        "transform = Compose([Resize((224, 224)),ToTensor()])\n",
        "\n",
        "image_names = os.listdir(y_test_dir)\n",
        "true_masks = []\n",
        "\n",
        "for image_name in image_names:\n",
        "  mask_path = os.path.join(y_test_dir, image_name)\n",
        "  img = Image.open(mask_path)\n",
        "  gt_mask = np.array(img)\n",
        "  gt_mask = (gt_mask == 3)\n",
        "  gt_mask = Image.fromarray(gt_mask)\n",
        "  gt_mask = transform(gt_mask)\n",
        "  true_masks.append(gt_mask)"
      ],
      "metadata": {
        "id": "SihiO0QAwo5R"
      },
      "execution_count": null,
      "outputs": []
    },
    {
      "cell_type": "markdown",
      "source": [
        "### 4.3 Mean IOU score for test set"
      ],
      "metadata": {
        "id": "s0BtJm_3UWsR"
      }
    },
    {
      "cell_type": "code",
      "source": [
        "T = []\n",
        "\n",
        "for i in range(len(test_dataset)):\n",
        "  p = test_masks[i].flatten()\n",
        "  q = true_masks[i].flatten()\n",
        "  m = tf.keras.metrics.MeanIoU(num_classes=2)\n",
        "  m.update_state(p, q)\n",
        "  T.append(m.result().numpy())\n",
        "\n",
        "np.mean(T)"
      ],
      "metadata": {
        "id": "b48xqV_-Ne9a"
      },
      "execution_count": null,
      "outputs": []
    }
  ]
}